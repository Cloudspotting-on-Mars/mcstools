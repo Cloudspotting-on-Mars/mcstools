{
 "cells": [
  {
   "cell_type": "code",
   "execution_count": 1,
   "metadata": {},
   "outputs": [],
   "source": [
    "%load_ext autoreload\n",
    "%autoreload 2"
   ]
  },
  {
   "cell_type": "code",
   "execution_count": 2,
   "metadata": {},
   "outputs": [
    {
     "data": {
      "text/plain": [
       "True"
      ]
     },
     "execution_count": 2,
     "metadata": {},
     "output_type": "execute_result"
    }
   ],
   "source": [
    "from dotenv import load_dotenv\n",
    "\n",
    "load_dotenv()"
   ]
  },
  {
   "cell_type": "code",
   "execution_count": 4,
   "metadata": {},
   "outputs": [
    {
     "name": "stderr",
     "output_type": "stream",
     "text": [
      "WARNING (pytensor.tensor.blas): Using NumPy C-API based implementation for BLAS functions.\n"
     ]
    }
   ],
   "source": [
    "import datetime as dt\n",
    "import numpy as np\n",
    "\n",
    "import pymc as pm\n",
    "import matplotlib.pyplot as plt\n",
    "\n",
    "\n",
    "import mcstools.preprocess.l2.filter_and_bin as fb\n",
    "from mcstools.loader import L2Loader\n",
    "from mars_time import MarsTime"
   ]
  },
  {
   "cell_type": "code",
   "execution_count": 5,
   "metadata": {},
   "outputs": [],
   "source": [
    "loader = L2Loader()"
   ]
  },
  {
   "cell_type": "code",
   "execution_count": 6,
   "metadata": {},
   "outputs": [],
   "source": [
    "ddr1 = loader.load_ls_range(MarsTime.from_solar_longitude(29, 30), MarsTime.from_solar_longitude(29, 40))"
   ]
  },
  {
   "cell_type": "code",
   "execution_count": 7,
   "metadata": {},
   "outputs": [
    {
     "data": {
      "text/plain": [
       "0.999773"
      ]
     },
     "execution_count": 7,
     "metadata": {},
     "output_type": "execute_result"
    }
   ],
   "source": [
    "ddr1[\"LTST\"].max()"
   ]
  },
  {
   "cell_type": "code",
   "execution_count": 8,
   "metadata": {},
   "outputs": [],
   "source": [
    "filter = {\n",
    "    \"Profile_lat\": (0, 5),\n",
    "    \"Profile_lon\": (-150, -135),\n",
    "    #\"Obs_qual\": [0, 1, 10, 11],\n",
    "    \"LTST\": (0, 9/24)\n",
    "}"
   ]
  },
  {
   "cell_type": "code",
   "execution_count": 9,
   "metadata": {},
   "outputs": [
    {
     "name": "stdout",
     "output_type": "stream",
     "text": [
      "(44598, 78)\n",
      "Filtering Profile_lat to within (0, 5).\n",
      "Filtering Profile_lon to within (-150, -135).\n",
      "Filtering LTST to within (0, 0.375).\n",
      "(11, 78)\n"
     ]
    }
   ],
   "source": [
    "print(ddr1.shape)\n",
    "ddr1 = fb.filter_ddr1_df_from_config(ddr1, filter)\n",
    "print(ddr1.shape)"
   ]
  },
  {
   "cell_type": "code",
   "execution_count": 10,
   "metadata": {},
   "outputs": [],
   "source": [
    "ddr2 = loader.load(\"DDR2\", profiles=ddr1[\"Profile_identifier\"])"
   ]
  },
  {
   "cell_type": "code",
   "execution_count": 11,
   "metadata": {},
   "outputs": [],
   "source": [
    "temps = ddr2.dropna(subset=[\"T\"])"
   ]
  },
  {
   "cell_type": "code",
   "execution_count": 12,
   "metadata": {},
   "outputs": [],
   "source": [
    "ex_level = 65\n",
    "n_levels = 5\n",
    "ex_level_temps = temps[temps[\"level\"].between(ex_level-n_levels, ex_level+n_levels)]"
   ]
  },
  {
   "cell_type": "code",
   "execution_count": 13,
   "metadata": {},
   "outputs": [
    {
     "data": {
      "text/plain": [
       "array([[<Axes: title={'center': 'T'}>, <Axes: title={'center': 'Alt'}>]],\n",
       "      dtype=object)"
      ]
     },
     "execution_count": 13,
     "metadata": {},
     "output_type": "execute_result"
    },
    {
     "data": {
      "image/png": "[encoded data removed]",
      "text/plain": [
       "<Figure size 640x480 with 2 Axes>"
      ]
     },
     "metadata": {},
     "output_type": "display_data"
    }
   ],
   "source": [
    "ex_level_temps[[\"T\", \"Alt\"]].hist()"
   ]
  },
  {
   "cell_type": "code",
   "execution_count": 14,
   "metadata": {},
   "outputs": [
    {
     "data": {
      "text/plain": [
       "<Axes: >"
      ]
     },
     "execution_count": 14,
     "metadata": {},
     "output_type": "execute_result"
    },
    {
     "data": {
      "image/png": "[encoded data removed]",
      "text/plain": [
       "<Figure size 640x480 with 1 Axes>"
      ]
     },
     "metadata": {},
     "output_type": "display_data"
    }
   ],
   "source": [
    "np.log(ex_level_temps[\"T\"]).hist()"
   ]
  },
  {
   "cell_type": "code",
   "execution_count": 16,
   "metadata": {},
   "outputs": [
    {
     "name": "stderr",
     "output_type": "stream",
     "text": [
      "ERROR (pytensor.graph.rewriting.basic): Rewrite failure due to: constant_folding\n",
      "ERROR (pytensor.graph.rewriting.basic): node: Cast{float64}(0)\n",
      "ERROR (pytensor.graph.rewriting.basic): TRACEBACK:\n",
      "ERROR (pytensor.graph.rewriting.basic): Traceback (most recent call last):\n",
      "  File \"/home/mslipski/mcstools/env/lib64/python3.9/site-packages/pytensor/graph/rewriting/basic.py\", line 1922, in process_node\n",
      "    replacements = node_rewriter.transform(fgraph, node)\n",
      "  File \"/home/mslipski/mcstools/env/lib64/python3.9/site-packages/pytensor/graph/rewriting/basic.py\", line 1081, in transform\n",
      "    return self.fn(fgraph, node)\n",
      "  File \"/home/mslipski/mcstools/env/lib64/python3.9/site-packages/pytensor/tensor/rewriting/basic.py\", line 1110, in constant_folding\n",
      "    thunk = node.op.make_thunk(node, storage_map, compute_map, no_recycling=[])\n",
      "  File \"/home/mslipski/mcstools/env/lib64/python3.9/site-packages/pytensor/link/c/op.py\", line 119, in make_thunk\n",
      "    return self.make_c_thunk(node, storage_map, compute_map, no_recycling)\n",
      "  File \"/home/mslipski/mcstools/env/lib64/python3.9/site-packages/pytensor/link/c/op.py\", line 84, in make_c_thunk\n",
      "    outputs = cl.make_thunk(\n",
      "  File \"/home/mslipski/mcstools/env/lib64/python3.9/site-packages/pytensor/link/c/basic.py\", line 1189, in make_thunk\n",
      "    cthunk, module, in_storage, out_storage, error_storage = self.__compile__(\n",
      "  File \"/home/mslipski/mcstools/env/lib64/python3.9/site-packages/pytensor/link/c/basic.py\", line 1109, in __compile__\n",
      "    thunk, module = self.cthunk_factory(\n",
      "  File \"/home/mslipski/mcstools/env/lib64/python3.9/site-packages/pytensor/link/c/basic.py\", line 1631, in cthunk_factory\n",
      "    module = cache.module_from_key(key=key, lnk=self)\n",
      "  File \"/home/mslipski/mcstools/env/lib64/python3.9/site-packages/pytensor/link/c/cmodule.py\", line 1231, in module_from_key\n",
      "    module = lnk.compile_cmodule(location)\n",
      "  File \"/home/mslipski/mcstools/env/lib64/python3.9/site-packages/pytensor/link/c/basic.py\", line 1532, in compile_cmodule\n",
      "    module = c_compiler.compile_str(\n",
      "  File \"/home/mslipski/mcstools/env/lib64/python3.9/site-packages/pytensor/link/c/cmodule.py\", line 2639, in compile_str\n",
      "    raise CompileError(\n",
      "pytensor.link.c.exceptions.CompileError: Compilation failed (return status=1):\n",
      "/usr/bin/g++ -shared -g -O3 -fno-math-errno -Wno-unused-label -Wno-unused-variable -Wno-write-strings -Wno-c++11-narrowing -fno-exceptions -fno-unwind-tables -fno-asynchronous-unwind-tables -march=znver1 -mmmx -mno-3dnow -msse -msse2 -msse3 -mssse3 -msse4a -mcx16 -msahf -mmovbe -maes -msha -mpclmul -mpopcnt -mabm -mno-lwp -mfma -mno-fma4 -mno-xop -mbmi -mno-sgx -mbmi2 -mno-pconfig -mwbnoinvd -mno-tbm -mavx -mavx2 -msse4.2 -msse4.1 -mlzcnt -mno-rtm -mno-hle -mrdrnd -mf16c -mfsgsbase -mrdseed -mprfchw -madx -mfxsr -mxsave -mxsaveopt -mno-avx512f -mno-avx512er -mno-avx512cd -mno-avx512pf -mno-prefetchwt1 -mclflushopt -mxsavec -mxsaves -mno-avx512dq -mno-avx512bw -mno-avx512vl -mno-avx512ifma -mno-avx512vbmi -mno-avx5124fmaps -mno-avx5124vnniw -mclwb -mmwaitx -mclzero -mno-pku -mrdpid -mno-gfni -mno-shstk -mno-avx512vbmi2 -mno-avx512vnni -mno-vaes -mno-vpclmulqdq -mno-avx512bitalg -mno-avx512vpopcntdq -mno-movdiri -mno-movdir64b --param l1-cache-size=32 --param l1-cache-line-size=64 --param l2-cache-size=512 -mtune=znver1 -DNPY_NO_DEPRECATED_API=NPY_1_7_API_VERSION -m64 -fPIC -I/home/mslipski/mcstools/env/lib64/python3.9/site-packages/numpy/core/include -I/usr/include/python3.9 -I/home/mslipski/mcstools/env/lib64/python3.9/site-packages/pytensor/link/c/c_code -L/usr/lib64 -fvisibility=hidden -o /home/mslipski/.pytensor/compiledir_Linux-5.4-el8uek.x86_64-x86_64-with-glibc2.28-x86_64-3.9.20-64/tmp5puumpls/maf7dfc2b98019ae231490759913de9c7eae2cf26062201cb60a34079dffa7f98.so /home/mslipski/.pytensor/compiledir_Linux-5.4-el8uek.x86_64-x86_64-with-glibc2.28-x86_64-3.9.20-64/tmp5puumpls/mod.cpp -lpython3.9\n",
      "/home/mslipski/.pytensor/compiledir_Linux-5.4-el8uek.x86_64-x86_64-with-glibc2.28-x86_64-3.9.20-64/tmp5puumpls/mod.cpp:1:10: fatal error: Python.h: No such file or directory\n",
      " #include <Python.h>\n",
      "          ^~~~~~~~~~\n",
      "compilation terminated.\n",
      "\n",
      "\n",
      "ERROR (pytensor.graph.rewriting.basic): Rewrite failure due to: constant_folding\n",
      "ERROR (pytensor.graph.rewriting.basic): node: Cast{float32}(5)\n",
      "ERROR (pytensor.graph.rewriting.basic): TRACEBACK:\n",
      "ERROR (pytensor.graph.rewriting.basic): Traceback (most recent call last):\n",
      "  File \"/home/mslipski/mcstools/env/lib64/python3.9/site-packages/pytensor/graph/rewriting/basic.py\", line 1922, in process_node\n",
      "    replacements = node_rewriter.transform(fgraph, node)\n",
      "  File \"/home/mslipski/mcstools/env/lib64/python3.9/site-packages/pytensor/graph/rewriting/basic.py\", line 1081, in transform\n",
      "    return self.fn(fgraph, node)\n",
      "  File \"/home/mslipski/mcstools/env/lib64/python3.9/site-packages/pytensor/tensor/rewriting/basic.py\", line 1110, in constant_folding\n",
      "    thunk = node.op.make_thunk(node, storage_map, compute_map, no_recycling=[])\n",
      "  File \"/home/mslipski/mcstools/env/lib64/python3.9/site-packages/pytensor/link/c/op.py\", line 119, in make_thunk\n",
      "    return self.make_c_thunk(node, storage_map, compute_map, no_recycling)\n",
      "  File \"/home/mslipski/mcstools/env/lib64/python3.9/site-packages/pytensor/link/c/op.py\", line 84, in make_c_thunk\n",
      "    outputs = cl.make_thunk(\n",
      "  File \"/home/mslipski/mcstools/env/lib64/python3.9/site-packages/pytensor/link/c/basic.py\", line 1189, in make_thunk\n",
      "    cthunk, module, in_storage, out_storage, error_storage = self.__compile__(\n",
      "  File \"/home/mslipski/mcstools/env/lib64/python3.9/site-packages/pytensor/link/c/basic.py\", line 1109, in __compile__\n",
      "    thunk, module = self.cthunk_factory(\n",
      "  File \"/home/mslipski/mcstools/env/lib64/python3.9/site-packages/pytensor/link/c/basic.py\", line 1631, in cthunk_factory\n",
      "    module = cache.module_from_key(key=key, lnk=self)\n",
      "  File \"/home/mslipski/mcstools/env/lib64/python3.9/site-packages/pytensor/link/c/cmodule.py\", line 1231, in module_from_key\n",
      "    module = lnk.compile_cmodule(location)\n",
      "  File \"/home/mslipski/mcstools/env/lib64/python3.9/site-packages/pytensor/link/c/basic.py\", line 1532, in compile_cmodule\n",
      "    module = c_compiler.compile_str(\n",
      "  File \"/home/mslipski/mcstools/env/lib64/python3.9/site-packages/pytensor/link/c/cmodule.py\", line 2639, in compile_str\n",
      "    raise CompileError(\n",
      "pytensor.link.c.exceptions.CompileError: Compilation failed (return status=1):\n",
      "/usr/bin/g++ -shared -g -O3 -fno-math-errno -Wno-unused-label -Wno-unused-variable -Wno-write-strings -Wno-c++11-narrowing -fno-exceptions -fno-unwind-tables -fno-asynchronous-unwind-tables -march=znver1 -mmmx -mno-3dnow -msse -msse2 -msse3 -mssse3 -msse4a -mcx16 -msahf -mmovbe -maes -msha -mpclmul -mpopcnt -mabm -mno-lwp -mfma -mno-fma4 -mno-xop -mbmi -mno-sgx -mbmi2 -mno-pconfig -mwbnoinvd -mno-tbm -mavx -mavx2 -msse4.2 -msse4.1 -mlzcnt -mno-rtm -mno-hle -mrdrnd -mf16c -mfsgsbase -mrdseed -mprfchw -madx -mfxsr -mxsave -mxsaveopt -mno-avx512f -mno-avx512er -mno-avx512cd -mno-avx512pf -mno-prefetchwt1 -mclflushopt -mxsavec -mxsaves -mno-avx512dq -mno-avx512bw -mno-avx512vl -mno-avx512ifma -mno-avx512vbmi -mno-avx5124fmaps -mno-avx5124vnniw -mclwb -mmwaitx -mclzero -mno-pku -mrdpid -mno-gfni -mno-shstk -mno-avx512vbmi2 -mno-avx512vnni -mno-vaes -mno-vpclmulqdq -mno-avx512bitalg -mno-avx512vpopcntdq -mno-movdiri -mno-movdir64b --param l1-cache-size=32 --param l1-cache-line-size=64 --param l2-cache-size=512 -mtune=znver1 -DNPY_NO_DEPRECATED_API=NPY_1_7_API_VERSION -m64 -fPIC -I/home/mslipski/mcstools/env/lib64/python3.9/site-packages/numpy/core/include -I/usr/include/python3.9 -I/home/mslipski/mcstools/env/lib64/python3.9/site-packages/pytensor/link/c/c_code -L/usr/lib64 -fvisibility=hidden -o /home/mslipski/.pytensor/compiledir_Linux-5.4-el8uek.x86_64-x86_64-with-glibc2.28-x86_64-3.9.20-64/tmp8_gh2oic/me74092bd2820b30210582801be6ace00b8255d62e9b7646e2038659d8b6ecf02.so /home/mslipski/.pytensor/compiledir_Linux-5.4-el8uek.x86_64-x86_64-with-glibc2.28-x86_64-3.9.20-64/tmp8_gh2oic/mod.cpp -lpython3.9\n",
      "/home/mslipski/.pytensor/compiledir_Linux-5.4-el8uek.x86_64-x86_64-with-glibc2.28-x86_64-3.9.20-64/tmp8_gh2oic/mod.cpp:1:10: fatal error: Python.h: No such file or directory\n",
      " #include <Python.h>\n",
      "          ^~~~~~~~~~\n",
      "compilation terminated.\n",
      "\n",
      "\n",
      "ERROR (pytensor.graph.rewriting.basic): Rewrite failure due to: constant_folding\n",
      "ERROR (pytensor.graph.rewriting.basic): node: Cast{float64}(0)\n",
      "ERROR (pytensor.graph.rewriting.basic): TRACEBACK:\n",
      "ERROR (pytensor.graph.rewriting.basic): Traceback (most recent call last):\n",
      "  File \"/home/mslipski/mcstools/env/lib64/python3.9/site-packages/pytensor/graph/rewriting/basic.py\", line 1922, in process_node\n",
      "    replacements = node_rewriter.transform(fgraph, node)\n",
      "  File \"/home/mslipski/mcstools/env/lib64/python3.9/site-packages/pytensor/graph/rewriting/basic.py\", line 1081, in transform\n",
      "    return self.fn(fgraph, node)\n",
      "  File \"/home/mslipski/mcstools/env/lib64/python3.9/site-packages/pytensor/tensor/rewriting/basic.py\", line 1110, in constant_folding\n",
      "    thunk = node.op.make_thunk(node, storage_map, compute_map, no_recycling=[])\n",
      "  File \"/home/mslipski/mcstools/env/lib64/python3.9/site-packages/pytensor/link/c/op.py\", line 119, in make_thunk\n",
      "    return self.make_c_thunk(node, storage_map, compute_map, no_recycling)\n",
      "  File \"/home/mslipski/mcstools/env/lib64/python3.9/site-packages/pytensor/link/c/op.py\", line 84, in make_c_thunk\n",
      "    outputs = cl.make_thunk(\n",
      "  File \"/home/mslipski/mcstools/env/lib64/python3.9/site-packages/pytensor/link/c/basic.py\", line 1189, in make_thunk\n",
      "    cthunk, module, in_storage, out_storage, error_storage = self.__compile__(\n",
      "  File \"/home/mslipski/mcstools/env/lib64/python3.9/site-packages/pytensor/link/c/basic.py\", line 1109, in __compile__\n",
      "    thunk, module = self.cthunk_factory(\n",
      "  File \"/home/mslipski/mcstools/env/lib64/python3.9/site-packages/pytensor/link/c/basic.py\", line 1631, in cthunk_factory\n",
      "    module = cache.module_from_key(key=key, lnk=self)\n",
      "  File \"/home/mslipski/mcstools/env/lib64/python3.9/site-packages/pytensor/link/c/cmodule.py\", line 1231, in module_from_key\n",
      "    module = lnk.compile_cmodule(location)\n",
      "  File \"/home/mslipski/mcstools/env/lib64/python3.9/site-packages/pytensor/link/c/basic.py\", line 1532, in compile_cmodule\n",
      "    module = c_compiler.compile_str(\n",
      "  File \"/home/mslipski/mcstools/env/lib64/python3.9/site-packages/pytensor/link/c/cmodule.py\", line 2639, in compile_str\n",
      "    raise CompileError(\n",
      "pytensor.link.c.exceptions.CompileError: Compilation failed (return status=1):\n",
      "/usr/bin/g++ -shared -g -O3 -fno-math-errno -Wno-unused-label -Wno-unused-variable -Wno-write-strings -Wno-c++11-narrowing -fno-exceptions -fno-unwind-tables -fno-asynchronous-unwind-tables -march=znver1 -mmmx -mno-3dnow -msse -msse2 -msse3 -mssse3 -msse4a -mcx16 -msahf -mmovbe -maes -msha -mpclmul -mpopcnt -mabm -mno-lwp -mfma -mno-fma4 -mno-xop -mbmi -mno-sgx -mbmi2 -mno-pconfig -mwbnoinvd -mno-tbm -mavx -mavx2 -msse4.2 -msse4.1 -mlzcnt -mno-rtm -mno-hle -mrdrnd -mf16c -mfsgsbase -mrdseed -mprfchw -madx -mfxsr -mxsave -mxsaveopt -mno-avx512f -mno-avx512er -mno-avx512cd -mno-avx512pf -mno-prefetchwt1 -mclflushopt -mxsavec -mxsaves -mno-avx512dq -mno-avx512bw -mno-avx512vl -mno-avx512ifma -mno-avx512vbmi -mno-avx5124fmaps -mno-avx5124vnniw -mclwb -mmwaitx -mclzero -mno-pku -mrdpid -mno-gfni -mno-shstk -mno-avx512vbmi2 -mno-avx512vnni -mno-vaes -mno-vpclmulqdq -mno-avx512bitalg -mno-avx512vpopcntdq -mno-movdiri -mno-movdir64b --param l1-cache-size=32 --param l1-cache-line-size=64 --param l2-cache-size=512 -mtune=znver1 -DNPY_NO_DEPRECATED_API=NPY_1_7_API_VERSION -m64 -fPIC -I/home/mslipski/mcstools/env/lib64/python3.9/site-packages/numpy/core/include -I/usr/include/python3.9 -I/home/mslipski/mcstools/env/lib64/python3.9/site-packages/pytensor/link/c/c_code -L/usr/lib64 -fvisibility=hidden -o /home/mslipski/.pytensor/compiledir_Linux-5.4-el8uek.x86_64-x86_64-with-glibc2.28-x86_64-3.9.20-64/tmp8t7l8ss2/maf7dfc2b98019ae231490759913de9c7eae2cf26062201cb60a34079dffa7f98.so /home/mslipski/.pytensor/compiledir_Linux-5.4-el8uek.x86_64-x86_64-with-glibc2.28-x86_64-3.9.20-64/tmp8t7l8ss2/mod.cpp -lpython3.9\n",
      "/home/mslipski/.pytensor/compiledir_Linux-5.4-el8uek.x86_64-x86_64-with-glibc2.28-x86_64-3.9.20-64/tmp8t7l8ss2/mod.cpp:1:10: fatal error: Python.h: No such file or directory\n",
      " #include <Python.h>\n",
      "          ^~~~~~~~~~\n",
      "compilation terminated.\n",
      "\n",
      "\n",
      "ERROR (pytensor.graph.rewriting.basic): Rewrite failure due to: constant_folding\n",
      "ERROR (pytensor.graph.rewriting.basic): node: Cast{float64}(5)\n",
      "ERROR (pytensor.graph.rewriting.basic): TRACEBACK:\n",
      "ERROR (pytensor.graph.rewriting.basic): Traceback (most recent call last):\n",
      "  File \"/home/mslipski/mcstools/env/lib64/python3.9/site-packages/pytensor/graph/rewriting/basic.py\", line 1922, in process_node\n",
      "    replacements = node_rewriter.transform(fgraph, node)\n",
      "  File \"/home/mslipski/mcstools/env/lib64/python3.9/site-packages/pytensor/graph/rewriting/basic.py\", line 1081, in transform\n",
      "    return self.fn(fgraph, node)\n",
      "  File \"/home/mslipski/mcstools/env/lib64/python3.9/site-packages/pytensor/tensor/rewriting/basic.py\", line 1110, in constant_folding\n",
      "    thunk = node.op.make_thunk(node, storage_map, compute_map, no_recycling=[])\n",
      "  File \"/home/mslipski/mcstools/env/lib64/python3.9/site-packages/pytensor/link/c/op.py\", line 119, in make_thunk\n",
      "    return self.make_c_thunk(node, storage_map, compute_map, no_recycling)\n",
      "  File \"/home/mslipski/mcstools/env/lib64/python3.9/site-packages/pytensor/link/c/op.py\", line 84, in make_c_thunk\n",
      "    outputs = cl.make_thunk(\n",
      "  File \"/home/mslipski/mcstools/env/lib64/python3.9/site-packages/pytensor/link/c/basic.py\", line 1189, in make_thunk\n",
      "    cthunk, module, in_storage, out_storage, error_storage = self.__compile__(\n",
      "  File \"/home/mslipski/mcstools/env/lib64/python3.9/site-packages/pytensor/link/c/basic.py\", line 1109, in __compile__\n",
      "    thunk, module = self.cthunk_factory(\n",
      "  File \"/home/mslipski/mcstools/env/lib64/python3.9/site-packages/pytensor/link/c/basic.py\", line 1631, in cthunk_factory\n",
      "    module = cache.module_from_key(key=key, lnk=self)\n",
      "  File \"/home/mslipski/mcstools/env/lib64/python3.9/site-packages/pytensor/link/c/cmodule.py\", line 1231, in module_from_key\n",
      "    module = lnk.compile_cmodule(location)\n",
      "  File \"/home/mslipski/mcstools/env/lib64/python3.9/site-packages/pytensor/link/c/basic.py\", line 1532, in compile_cmodule\n",
      "    module = c_compiler.compile_str(\n",
      "  File \"/home/mslipski/mcstools/env/lib64/python3.9/site-packages/pytensor/link/c/cmodule.py\", line 2639, in compile_str\n",
      "    raise CompileError(\n",
      "pytensor.link.c.exceptions.CompileError: Compilation failed (return status=1):\n",
      "/usr/bin/g++ -shared -g -O3 -fno-math-errno -Wno-unused-label -Wno-unused-variable -Wno-write-strings -Wno-c++11-narrowing -fno-exceptions -fno-unwind-tables -fno-asynchronous-unwind-tables -march=znver1 -mmmx -mno-3dnow -msse -msse2 -msse3 -mssse3 -msse4a -mcx16 -msahf -mmovbe -maes -msha -mpclmul -mpopcnt -mabm -mno-lwp -mfma -mno-fma4 -mno-xop -mbmi -mno-sgx -mbmi2 -mno-pconfig -mwbnoinvd -mno-tbm -mavx -mavx2 -msse4.2 -msse4.1 -mlzcnt -mno-rtm -mno-hle -mrdrnd -mf16c -mfsgsbase -mrdseed -mprfchw -madx -mfxsr -mxsave -mxsaveopt -mno-avx512f -mno-avx512er -mno-avx512cd -mno-avx512pf -mno-prefetchwt1 -mclflushopt -mxsavec -mxsaves -mno-avx512dq -mno-avx512bw -mno-avx512vl -mno-avx512ifma -mno-avx512vbmi -mno-avx5124fmaps -mno-avx5124vnniw -mclwb -mmwaitx -mclzero -mno-pku -mrdpid -mno-gfni -mno-shstk -mno-avx512vbmi2 -mno-avx512vnni -mno-vaes -mno-vpclmulqdq -mno-avx512bitalg -mno-avx512vpopcntdq -mno-movdiri -mno-movdir64b --param l1-cache-size=32 --param l1-cache-line-size=64 --param l2-cache-size=512 -mtune=znver1 -DNPY_NO_DEPRECATED_API=NPY_1_7_API_VERSION -m64 -fPIC -I/home/mslipski/mcstools/env/lib64/python3.9/site-packages/numpy/core/include -I/usr/include/python3.9 -I/home/mslipski/mcstools/env/lib64/python3.9/site-packages/pytensor/link/c/c_code -L/usr/lib64 -fvisibility=hidden -o /home/mslipski/.pytensor/compiledir_Linux-5.4-el8uek.x86_64-x86_64-with-glibc2.28-x86_64-3.9.20-64/tmp00odrzep/maf7dfc2b98019ae231490759913de9c7eae2cf26062201cb60a34079dffa7f98.so /home/mslipski/.pytensor/compiledir_Linux-5.4-el8uek.x86_64-x86_64-with-glibc2.28-x86_64-3.9.20-64/tmp00odrzep/mod.cpp -lpython3.9\n",
      "/home/mslipski/.pytensor/compiledir_Linux-5.4-el8uek.x86_64-x86_64-with-glibc2.28-x86_64-3.9.20-64/tmp00odrzep/mod.cpp:1:10: fatal error: Python.h: No such file or directory\n",
      " #include <Python.h>\n",
      "          ^~~~~~~~~~\n",
      "compilation terminated.\n",
      "\n",
      "\n"
     ]
    },
    {
     "name": "stdout",
     "output_type": "stream",
     "text": [
      "\n",
      "You can find the C code in this temporary file: /tmp/pytensor_compilation_error__hcqg9ym\n",
      "\n",
      "You can find the C code in this temporary file: /tmp/pytensor_compilation_error_xnhmjlrs\n",
      "\n",
      "You can find the C code in this temporary file: /tmp/pytensor_compilation_error_4_vte6z3\n",
      "\n",
      "You can find the C code in this temporary file: /tmp/pytensor_compilation_error_f84tiztv\n"
     ]
    },
    {
     "name": "stderr",
     "output_type": "stream",
     "text": [
      "ERROR (pytensor.graph.rewriting.basic): Rewrite failure due to: constant_folding\n",
      "ERROR (pytensor.graph.rewriting.basic): node: Cast{float64}(0)\n",
      "ERROR (pytensor.graph.rewriting.basic): TRACEBACK:\n",
      "ERROR (pytensor.graph.rewriting.basic): Traceback (most recent call last):\n",
      "  File \"/home/mslipski/mcstools/env/lib64/python3.9/site-packages/pytensor/graph/rewriting/basic.py\", line 1922, in process_node\n",
      "    replacements = node_rewriter.transform(fgraph, node)\n",
      "  File \"/home/mslipski/mcstools/env/lib64/python3.9/site-packages/pytensor/graph/rewriting/basic.py\", line 1081, in transform\n",
      "    return self.fn(fgraph, node)\n",
      "  File \"/home/mslipski/mcstools/env/lib64/python3.9/site-packages/pytensor/tensor/rewriting/basic.py\", line 1110, in constant_folding\n",
      "    thunk = node.op.make_thunk(node, storage_map, compute_map, no_recycling=[])\n",
      "  File \"/home/mslipski/mcstools/env/lib64/python3.9/site-packages/pytensor/link/c/op.py\", line 119, in make_thunk\n",
      "    return self.make_c_thunk(node, storage_map, compute_map, no_recycling)\n",
      "  File \"/home/mslipski/mcstools/env/lib64/python3.9/site-packages/pytensor/link/c/op.py\", line 84, in make_c_thunk\n",
      "    outputs = cl.make_thunk(\n",
      "  File \"/home/mslipski/mcstools/env/lib64/python3.9/site-packages/pytensor/link/c/basic.py\", line 1189, in make_thunk\n",
      "    cthunk, module, in_storage, out_storage, error_storage = self.__compile__(\n",
      "  File \"/home/mslipski/mcstools/env/lib64/python3.9/site-packages/pytensor/link/c/basic.py\", line 1109, in __compile__\n",
      "    thunk, module = self.cthunk_factory(\n",
      "  File \"/home/mslipski/mcstools/env/lib64/python3.9/site-packages/pytensor/link/c/basic.py\", line 1631, in cthunk_factory\n",
      "    module = cache.module_from_key(key=key, lnk=self)\n",
      "  File \"/home/mslipski/mcstools/env/lib64/python3.9/site-packages/pytensor/link/c/cmodule.py\", line 1231, in module_from_key\n",
      "    module = lnk.compile_cmodule(location)\n",
      "  File \"/home/mslipski/mcstools/env/lib64/python3.9/site-packages/pytensor/link/c/basic.py\", line 1532, in compile_cmodule\n",
      "    module = c_compiler.compile_str(\n",
      "  File \"/home/mslipski/mcstools/env/lib64/python3.9/site-packages/pytensor/link/c/cmodule.py\", line 2639, in compile_str\n",
      "    raise CompileError(\n",
      "pytensor.link.c.exceptions.CompileError: Compilation failed (return status=1):\n",
      "/usr/bin/g++ -shared -g -O3 -fno-math-errno -Wno-unused-label -Wno-unused-variable -Wno-write-strings -Wno-c++11-narrowing -fno-exceptions -fno-unwind-tables -fno-asynchronous-unwind-tables -march=znver1 -mmmx -mno-3dnow -msse -msse2 -msse3 -mssse3 -msse4a -mcx16 -msahf -mmovbe -maes -msha -mpclmul -mpopcnt -mabm -mno-lwp -mfma -mno-fma4 -mno-xop -mbmi -mno-sgx -mbmi2 -mno-pconfig -mwbnoinvd -mno-tbm -mavx -mavx2 -msse4.2 -msse4.1 -mlzcnt -mno-rtm -mno-hle -mrdrnd -mf16c -mfsgsbase -mrdseed -mprfchw -madx -mfxsr -mxsave -mxsaveopt -mno-avx512f -mno-avx512er -mno-avx512cd -mno-avx512pf -mno-prefetchwt1 -mclflushopt -mxsavec -mxsaves -mno-avx512dq -mno-avx512bw -mno-avx512vl -mno-avx512ifma -mno-avx512vbmi -mno-avx5124fmaps -mno-avx5124vnniw -mclwb -mmwaitx -mclzero -mno-pku -mrdpid -mno-gfni -mno-shstk -mno-avx512vbmi2 -mno-avx512vnni -mno-vaes -mno-vpclmulqdq -mno-avx512bitalg -mno-avx512vpopcntdq -mno-movdiri -mno-movdir64b --param l1-cache-size=32 --param l1-cache-line-size=64 --param l2-cache-size=512 -mtune=znver1 -DNPY_NO_DEPRECATED_API=NPY_1_7_API_VERSION -m64 -fPIC -I/home/mslipski/mcstools/env/lib64/python3.9/site-packages/numpy/core/include -I/usr/include/python3.9 -I/home/mslipski/mcstools/env/lib64/python3.9/site-packages/pytensor/link/c/c_code -L/usr/lib64 -fvisibility=hidden -o /home/mslipski/.pytensor/compiledir_Linux-5.4-el8uek.x86_64-x86_64-with-glibc2.28-x86_64-3.9.20-64/tmpgb_fc3lb/maf7dfc2b98019ae231490759913de9c7eae2cf26062201cb60a34079dffa7f98.so /home/mslipski/.pytensor/compiledir_Linux-5.4-el8uek.x86_64-x86_64-with-glibc2.28-x86_64-3.9.20-64/tmpgb_fc3lb/mod.cpp -lpython3.9\n",
      "/home/mslipski/.pytensor/compiledir_Linux-5.4-el8uek.x86_64-x86_64-with-glibc2.28-x86_64-3.9.20-64/tmpgb_fc3lb/mod.cpp:1:10: fatal error: Python.h: No such file or directory\n",
      " #include <Python.h>\n",
      "          ^~~~~~~~~~\n",
      "compilation terminated.\n",
      "\n",
      "\n",
      "ERROR (pytensor.graph.rewriting.basic): Rewrite failure due to: constant_folding\n",
      "ERROR (pytensor.graph.rewriting.basic): node: Cast{float64}(5)\n",
      "ERROR (pytensor.graph.rewriting.basic): TRACEBACK:\n",
      "ERROR (pytensor.graph.rewriting.basic): Traceback (most recent call last):\n",
      "  File \"/home/mslipski/mcstools/env/lib64/python3.9/site-packages/pytensor/graph/rewriting/basic.py\", line 1922, in process_node\n",
      "    replacements = node_rewriter.transform(fgraph, node)\n",
      "  File \"/home/mslipski/mcstools/env/lib64/python3.9/site-packages/pytensor/graph/rewriting/basic.py\", line 1081, in transform\n",
      "    return self.fn(fgraph, node)\n",
      "  File \"/home/mslipski/mcstools/env/lib64/python3.9/site-packages/pytensor/tensor/rewriting/basic.py\", line 1110, in constant_folding\n",
      "    thunk = node.op.make_thunk(node, storage_map, compute_map, no_recycling=[])\n",
      "  File \"/home/mslipski/mcstools/env/lib64/python3.9/site-packages/pytensor/link/c/op.py\", line 119, in make_thunk\n",
      "    return self.make_c_thunk(node, storage_map, compute_map, no_recycling)\n",
      "  File \"/home/mslipski/mcstools/env/lib64/python3.9/site-packages/pytensor/link/c/op.py\", line 84, in make_c_thunk\n",
      "    outputs = cl.make_thunk(\n",
      "  File \"/home/mslipski/mcstools/env/lib64/python3.9/site-packages/pytensor/link/c/basic.py\", line 1189, in make_thunk\n",
      "    cthunk, module, in_storage, out_storage, error_storage = self.__compile__(\n",
      "  File \"/home/mslipski/mcstools/env/lib64/python3.9/site-packages/pytensor/link/c/basic.py\", line 1109, in __compile__\n",
      "    thunk, module = self.cthunk_factory(\n",
      "  File \"/home/mslipski/mcstools/env/lib64/python3.9/site-packages/pytensor/link/c/basic.py\", line 1631, in cthunk_factory\n",
      "    module = cache.module_from_key(key=key, lnk=self)\n",
      "  File \"/home/mslipski/mcstools/env/lib64/python3.9/site-packages/pytensor/link/c/cmodule.py\", line 1231, in module_from_key\n",
      "    module = lnk.compile_cmodule(location)\n",
      "  File \"/home/mslipski/mcstools/env/lib64/python3.9/site-packages/pytensor/link/c/basic.py\", line 1532, in compile_cmodule\n",
      "    module = c_compiler.compile_str(\n",
      "  File \"/home/mslipski/mcstools/env/lib64/python3.9/site-packages/pytensor/link/c/cmodule.py\", line 2639, in compile_str\n",
      "    raise CompileError(\n",
      "pytensor.link.c.exceptions.CompileError: Compilation failed (return status=1):\n",
      "/usr/bin/g++ -shared -g -O3 -fno-math-errno -Wno-unused-label -Wno-unused-variable -Wno-write-strings -Wno-c++11-narrowing -fno-exceptions -fno-unwind-tables -fno-asynchronous-unwind-tables -march=znver1 -mmmx -mno-3dnow -msse -msse2 -msse3 -mssse3 -msse4a -mcx16 -msahf -mmovbe -maes -msha -mpclmul -mpopcnt -mabm -mno-lwp -mfma -mno-fma4 -mno-xop -mbmi -mno-sgx -mbmi2 -mno-pconfig -mwbnoinvd -mno-tbm -mavx -mavx2 -msse4.2 -msse4.1 -mlzcnt -mno-rtm -mno-hle -mrdrnd -mf16c -mfsgsbase -mrdseed -mprfchw -madx -mfxsr -mxsave -mxsaveopt -mno-avx512f -mno-avx512er -mno-avx512cd -mno-avx512pf -mno-prefetchwt1 -mclflushopt -mxsavec -mxsaves -mno-avx512dq -mno-avx512bw -mno-avx512vl -mno-avx512ifma -mno-avx512vbmi -mno-avx5124fmaps -mno-avx5124vnniw -mclwb -mmwaitx -mclzero -mno-pku -mrdpid -mno-gfni -mno-shstk -mno-avx512vbmi2 -mno-avx512vnni -mno-vaes -mno-vpclmulqdq -mno-avx512bitalg -mno-avx512vpopcntdq -mno-movdiri -mno-movdir64b --param l1-cache-size=32 --param l1-cache-line-size=64 --param l2-cache-size=512 -mtune=znver1 -DNPY_NO_DEPRECATED_API=NPY_1_7_API_VERSION -m64 -fPIC -I/home/mslipski/mcstools/env/lib64/python3.9/site-packages/numpy/core/include -I/usr/include/python3.9 -I/home/mslipski/mcstools/env/lib64/python3.9/site-packages/pytensor/link/c/c_code -L/usr/lib64 -fvisibility=hidden -o /home/mslipski/.pytensor/compiledir_Linux-5.4-el8uek.x86_64-x86_64-with-glibc2.28-x86_64-3.9.20-64/tmpx28t35ws/maf7dfc2b98019ae231490759913de9c7eae2cf26062201cb60a34079dffa7f98.so /home/mslipski/.pytensor/compiledir_Linux-5.4-el8uek.x86_64-x86_64-with-glibc2.28-x86_64-3.9.20-64/tmpx28t35ws/mod.cpp -lpython3.9\n",
      "/home/mslipski/.pytensor/compiledir_Linux-5.4-el8uek.x86_64-x86_64-with-glibc2.28-x86_64-3.9.20-64/tmpx28t35ws/mod.cpp:1:10: fatal error: Python.h: No such file or directory\n",
      " #include <Python.h>\n",
      "          ^~~~~~~~~~\n",
      "compilation terminated.\n",
      "\n",
      "\n",
      "ERROR (pytensor.graph.rewriting.basic): Rewrite failure due to: constant_folding\n",
      "ERROR (pytensor.graph.rewriting.basic): node: Cast{float64}(0)\n",
      "ERROR (pytensor.graph.rewriting.basic): TRACEBACK:\n",
      "ERROR (pytensor.graph.rewriting.basic): Traceback (most recent call last):\n",
      "  File \"/home/mslipski/mcstools/env/lib64/python3.9/site-packages/pytensor/graph/rewriting/basic.py\", line 1922, in process_node\n",
      "    replacements = node_rewriter.transform(fgraph, node)\n",
      "  File \"/home/mslipski/mcstools/env/lib64/python3.9/site-packages/pytensor/graph/rewriting/basic.py\", line 1081, in transform\n",
      "    return self.fn(fgraph, node)\n",
      "  File \"/home/mslipski/mcstools/env/lib64/python3.9/site-packages/pytensor/tensor/rewriting/basic.py\", line 1110, in constant_folding\n",
      "    thunk = node.op.make_thunk(node, storage_map, compute_map, no_recycling=[])\n",
      "  File \"/home/mslipski/mcstools/env/lib64/python3.9/site-packages/pytensor/link/c/op.py\", line 119, in make_thunk\n",
      "    return self.make_c_thunk(node, storage_map, compute_map, no_recycling)\n",
      "  File \"/home/mslipski/mcstools/env/lib64/python3.9/site-packages/pytensor/link/c/op.py\", line 84, in make_c_thunk\n",
      "    outputs = cl.make_thunk(\n",
      "  File \"/home/mslipski/mcstools/env/lib64/python3.9/site-packages/pytensor/link/c/basic.py\", line 1189, in make_thunk\n",
      "    cthunk, module, in_storage, out_storage, error_storage = self.__compile__(\n",
      "  File \"/home/mslipski/mcstools/env/lib64/python3.9/site-packages/pytensor/link/c/basic.py\", line 1109, in __compile__\n",
      "    thunk, module = self.cthunk_factory(\n",
      "  File \"/home/mslipski/mcstools/env/lib64/python3.9/site-packages/pytensor/link/c/basic.py\", line 1631, in cthunk_factory\n",
      "    module = cache.module_from_key(key=key, lnk=self)\n",
      "  File \"/home/mslipski/mcstools/env/lib64/python3.9/site-packages/pytensor/link/c/cmodule.py\", line 1231, in module_from_key\n",
      "    module = lnk.compile_cmodule(location)\n",
      "  File \"/home/mslipski/mcstools/env/lib64/python3.9/site-packages/pytensor/link/c/basic.py\", line 1532, in compile_cmodule\n",
      "    module = c_compiler.compile_str(\n",
      "  File \"/home/mslipski/mcstools/env/lib64/python3.9/site-packages/pytensor/link/c/cmodule.py\", line 2639, in compile_str\n",
      "    raise CompileError(\n",
      "pytensor.link.c.exceptions.CompileError: Compilation failed (return status=1):\n",
      "/usr/bin/g++ -shared -g -O3 -fno-math-errno -Wno-unused-label -Wno-unused-variable -Wno-write-strings -Wno-c++11-narrowing -fno-exceptions -fno-unwind-tables -fno-asynchronous-unwind-tables -march=znver1 -mmmx -mno-3dnow -msse -msse2 -msse3 -mssse3 -msse4a -mcx16 -msahf -mmovbe -maes -msha -mpclmul -mpopcnt -mabm -mno-lwp -mfma -mno-fma4 -mno-xop -mbmi -mno-sgx -mbmi2 -mno-pconfig -mwbnoinvd -mno-tbm -mavx -mavx2 -msse4.2 -msse4.1 -mlzcnt -mno-rtm -mno-hle -mrdrnd -mf16c -mfsgsbase -mrdseed -mprfchw -madx -mfxsr -mxsave -mxsaveopt -mno-avx512f -mno-avx512er -mno-avx512cd -mno-avx512pf -mno-prefetchwt1 -mclflushopt -mxsavec -mxsaves -mno-avx512dq -mno-avx512bw -mno-avx512vl -mno-avx512ifma -mno-avx512vbmi -mno-avx5124fmaps -mno-avx5124vnniw -mclwb -mmwaitx -mclzero -mno-pku -mrdpid -mno-gfni -mno-shstk -mno-avx512vbmi2 -mno-avx512vnni -mno-vaes -mno-vpclmulqdq -mno-avx512bitalg -mno-avx512vpopcntdq -mno-movdiri -mno-movdir64b --param l1-cache-size=32 --param l1-cache-line-size=64 --param l2-cache-size=512 -mtune=znver1 -DNPY_NO_DEPRECATED_API=NPY_1_7_API_VERSION -m64 -fPIC -I/home/mslipski/mcstools/env/lib64/python3.9/site-packages/numpy/core/include -I/usr/include/python3.9 -I/home/mslipski/mcstools/env/lib64/python3.9/site-packages/pytensor/link/c/c_code -L/usr/lib64 -fvisibility=hidden -o /home/mslipski/.pytensor/compiledir_Linux-5.4-el8uek.x86_64-x86_64-with-glibc2.28-x86_64-3.9.20-64/tmpasgwlxis/maf7dfc2b98019ae231490759913de9c7eae2cf26062201cb60a34079dffa7f98.so /home/mslipski/.pytensor/compiledir_Linux-5.4-el8uek.x86_64-x86_64-with-glibc2.28-x86_64-3.9.20-64/tmpasgwlxis/mod.cpp -lpython3.9\n",
      "/home/mslipski/.pytensor/compiledir_Linux-5.4-el8uek.x86_64-x86_64-with-glibc2.28-x86_64-3.9.20-64/tmpasgwlxis/mod.cpp:1:10: fatal error: Python.h: No such file or directory\n",
      " #include <Python.h>\n",
      "          ^~~~~~~~~~\n",
      "compilation terminated.\n",
      "\n",
      "\n",
      "ERROR (pytensor.graph.rewriting.basic): Rewrite failure due to: constant_folding\n",
      "ERROR (pytensor.graph.rewriting.basic): node: Cast{float64}(5)\n",
      "ERROR (pytensor.graph.rewriting.basic): TRACEBACK:\n",
      "ERROR (pytensor.graph.rewriting.basic): Traceback (most recent call last):\n",
      "  File \"/home/mslipski/mcstools/env/lib64/python3.9/site-packages/pytensor/graph/rewriting/basic.py\", line 1922, in process_node\n",
      "    replacements = node_rewriter.transform(fgraph, node)\n",
      "  File \"/home/mslipski/mcstools/env/lib64/python3.9/site-packages/pytensor/graph/rewriting/basic.py\", line 1081, in transform\n",
      "    return self.fn(fgraph, node)\n",
      "  File \"/home/mslipski/mcstools/env/lib64/python3.9/site-packages/pytensor/tensor/rewriting/basic.py\", line 1110, in constant_folding\n",
      "    thunk = node.op.make_thunk(node, storage_map, compute_map, no_recycling=[])\n",
      "  File \"/home/mslipski/mcstools/env/lib64/python3.9/site-packages/pytensor/link/c/op.py\", line 119, in make_thunk\n",
      "    return self.make_c_thunk(node, storage_map, compute_map, no_recycling)\n",
      "  File \"/home/mslipski/mcstools/env/lib64/python3.9/site-packages/pytensor/link/c/op.py\", line 84, in make_c_thunk\n",
      "    outputs = cl.make_thunk(\n",
      "  File \"/home/mslipski/mcstools/env/lib64/python3.9/site-packages/pytensor/link/c/basic.py\", line 1189, in make_thunk\n",
      "    cthunk, module, in_storage, out_storage, error_storage = self.__compile__(\n",
      "  File \"/home/mslipski/mcstools/env/lib64/python3.9/site-packages/pytensor/link/c/basic.py\", line 1109, in __compile__\n",
      "    thunk, module = self.cthunk_factory(\n",
      "  File \"/home/mslipski/mcstools/env/lib64/python3.9/site-packages/pytensor/link/c/basic.py\", line 1631, in cthunk_factory\n",
      "    module = cache.module_from_key(key=key, lnk=self)\n",
      "  File \"/home/mslipski/mcstools/env/lib64/python3.9/site-packages/pytensor/link/c/cmodule.py\", line 1231, in module_from_key\n",
      "    module = lnk.compile_cmodule(location)\n",
      "  File \"/home/mslipski/mcstools/env/lib64/python3.9/site-packages/pytensor/link/c/basic.py\", line 1532, in compile_cmodule\n",
      "    module = c_compiler.compile_str(\n",
      "  File \"/home/mslipski/mcstools/env/lib64/python3.9/site-packages/pytensor/link/c/cmodule.py\", line 2639, in compile_str\n",
      "    raise CompileError(\n",
      "pytensor.link.c.exceptions.CompileError: Compilation failed (return status=1):\n",
      "/usr/bin/g++ -shared -g -O3 -fno-math-errno -Wno-unused-label -Wno-unused-variable -Wno-write-strings -Wno-c++11-narrowing -fno-exceptions -fno-unwind-tables -fno-asynchronous-unwind-tables -march=znver1 -mmmx -mno-3dnow -msse -msse2 -msse3 -mssse3 -msse4a -mcx16 -msahf -mmovbe -maes -msha -mpclmul -mpopcnt -mabm -mno-lwp -mfma -mno-fma4 -mno-xop -mbmi -mno-sgx -mbmi2 -mno-pconfig -mwbnoinvd -mno-tbm -mavx -mavx2 -msse4.2 -msse4.1 -mlzcnt -mno-rtm -mno-hle -mrdrnd -mf16c -mfsgsbase -mrdseed -mprfchw -madx -mfxsr -mxsave -mxsaveopt -mno-avx512f -mno-avx512er -mno-avx512cd -mno-avx512pf -mno-prefetchwt1 -mclflushopt -mxsavec -mxsaves -mno-avx512dq -mno-avx512bw -mno-avx512vl -mno-avx512ifma -mno-avx512vbmi -mno-avx5124fmaps -mno-avx5124vnniw -mclwb -mmwaitx -mclzero -mno-pku -mrdpid -mno-gfni -mno-shstk -mno-avx512vbmi2 -mno-avx512vnni -mno-vaes -mno-vpclmulqdq -mno-avx512bitalg -mno-avx512vpopcntdq -mno-movdiri -mno-movdir64b --param l1-cache-size=32 --param l1-cache-line-size=64 --param l2-cache-size=512 -mtune=znver1 -DNPY_NO_DEPRECATED_API=NPY_1_7_API_VERSION -m64 -fPIC -I/home/mslipski/mcstools/env/lib64/python3.9/site-packages/numpy/core/include -I/usr/include/python3.9 -I/home/mslipski/mcstools/env/lib64/python3.9/site-packages/pytensor/link/c/c_code -L/usr/lib64 -fvisibility=hidden -o /home/mslipski/.pytensor/compiledir_Linux-5.4-el8uek.x86_64-x86_64-with-glibc2.28-x86_64-3.9.20-64/tmpvi2f82dk/maf7dfc2b98019ae231490759913de9c7eae2cf26062201cb60a34079dffa7f98.so /home/mslipski/.pytensor/compiledir_Linux-5.4-el8uek.x86_64-x86_64-with-glibc2.28-x86_64-3.9.20-64/tmpvi2f82dk/mod.cpp -lpython3.9\n",
      "/home/mslipski/.pytensor/compiledir_Linux-5.4-el8uek.x86_64-x86_64-with-glibc2.28-x86_64-3.9.20-64/tmpvi2f82dk/mod.cpp:1:10: fatal error: Python.h: No such file or directory\n",
      " #include <Python.h>\n",
      "          ^~~~~~~~~~\n",
      "compilation terminated.\n",
      "\n",
      "\n"
     ]
    },
    {
     "name": "stdout",
     "output_type": "stream",
     "text": [
      "\n",
      "You can find the C code in this temporary file: /tmp/pytensor_compilation_error_6p84e32m\n",
      "\n",
      "You can find the C code in this temporary file: /tmp/pytensor_compilation_error_9mafadgq\n",
      "\n",
      "You can find the C code in this temporary file: /tmp/pytensor_compilation_error_ktgteg3c\n",
      "\n",
      "You can find the C code in this temporary file: /tmp/pytensor_compilation_error_qp2s_wfi\n",
      "\n",
      "You can find the C code in this temporary file: /tmp/pytensor_compilation_error_7_q6aj_q\n"
     ]
    },
    {
     "ename": "CompileError",
     "evalue": "Compilation failed (return status=1):\n/usr/bin/g++ -shared -g -Wno-c++11-narrowing -fno-exceptions -fno-unwind-tables -fno-asynchronous-unwind-tables -march=znver1 -mmmx -mno-3dnow -msse -msse2 -msse3 -mssse3 -msse4a -mcx16 -msahf -mmovbe -maes -msha -mpclmul -mpopcnt -mabm -mno-lwp -mfma -mno-fma4 -mno-xop -mbmi -mno-sgx -mbmi2 -mno-pconfig -mwbnoinvd -mno-tbm -mavx -mavx2 -msse4.2 -msse4.1 -mlzcnt -mno-rtm -mno-hle -mrdrnd -mf16c -mfsgsbase -mrdseed -mprfchw -madx -mfxsr -mxsave -mxsaveopt -mno-avx512f -mno-avx512er -mno-avx512cd -mno-avx512pf -mno-prefetchwt1 -mclflushopt -mxsavec -mxsaves -mno-avx512dq -mno-avx512bw -mno-avx512vl -mno-avx512ifma -mno-avx512vbmi -mno-avx5124fmaps -mno-avx5124vnniw -mclwb -mmwaitx -mclzero -mno-pku -mrdpid -mno-gfni -mno-shstk -mno-avx512vbmi2 -mno-avx512vnni -mno-vaes -mno-vpclmulqdq -mno-avx512bitalg -mno-avx512vpopcntdq -mno-movdiri -mno-movdir64b --param l1-cache-size=32 --param l1-cache-line-size=64 --param l2-cache-size=512 -mtune=znver1 -DNPY_NO_DEPRECATED_API=NPY_1_7_API_VERSION -m64 -fPIC -I/home/mslipski/mcstools/env/lib64/python3.9/site-packages/numpy/core/include -I/usr/include/python3.9 -I/home/mslipski/mcstools/env/lib64/python3.9/site-packages/pytensor/link/c/c_code -L/usr/lib64 -fvisibility=hidden -o /home/mslipski/.pytensor/compiledir_Linux-5.4-el8uek.x86_64-x86_64-with-glibc2.28-x86_64-3.9.20-64/lazylinker_ext/lazylinker_ext.so /home/mslipski/.pytensor/compiledir_Linux-5.4-el8uek.x86_64-x86_64-with-glibc2.28-x86_64-3.9.20-64/lazylinker_ext/mod.cpp -lpython3.9\nIn file included from /home/mslipski/.pytensor/compiledir_Linux-5.4-el8uek.x86_64-x86_64-with-glibc2.28-x86_64-3.9.20-64/lazylinker_ext/mod.cpp:1:\n/home/mslipski/mcstools/env/lib64/python3.9/site-packages/pytensor/link/c/c_code/pytensor_mod_helper.h:4:10: fatal error: Python.h: No such file or directory\n #include <Python.h>\n          ^~~~~~~~~~\ncompilation terminated.\n",
     "output_type": "error",
     "traceback": [
      "\u001b[0;31m---------------------------------------------------------------------------\u001b[0m",
      "\u001b[0;31mImportError\u001b[0m                               Traceback (most recent call last)",
      "File \u001b[0;32m~/mcstools/env/lib64/python3.9/site-packages/pytensor/link/c/lazylinker_c.py:79\u001b[0m\n\u001b[1;32m     78\u001b[0m         \u001b[38;5;28;01mif\u001b[39;00m version \u001b[38;5;241m!=\u001b[39m actual_version:\n\u001b[0;32m---> 79\u001b[0m             \u001b[38;5;28;01mraise\u001b[39;00m \u001b[38;5;167;01mImportError\u001b[39;00m(\n\u001b[1;32m     80\u001b[0m                 \u001b[38;5;124m\"\u001b[39m\u001b[38;5;124mVersion check of the existing lazylinker compiled file.\u001b[39m\u001b[38;5;124m\"\u001b[39m\n\u001b[1;32m     81\u001b[0m                 \u001b[38;5;124mf\u001b[39m\u001b[38;5;124m\"\u001b[39m\u001b[38;5;124m Looking for version \u001b[39m\u001b[38;5;132;01m{\u001b[39;00mversion\u001b[38;5;132;01m}\u001b[39;00m\u001b[38;5;124m, but found \u001b[39m\u001b[38;5;132;01m{\u001b[39;00mactual_version\u001b[38;5;132;01m}\u001b[39;00m\u001b[38;5;124m. \u001b[39m\u001b[38;5;124m\"\u001b[39m\n\u001b[1;32m     82\u001b[0m                 \u001b[38;5;124mf\u001b[39m\u001b[38;5;124m\"\u001b[39m\u001b[38;5;124mExtra debug information: force_compile=\u001b[39m\u001b[38;5;132;01m{\u001b[39;00mforce_compile\u001b[38;5;132;01m}\u001b[39;00m\u001b[38;5;124m, _need_reload=\u001b[39m\u001b[38;5;132;01m{\u001b[39;00m_need_reload\u001b[38;5;132;01m}\u001b[39;00m\u001b[38;5;124m\"\u001b[39m\n\u001b[1;32m     83\u001b[0m             )\n\u001b[1;32m     84\u001b[0m \u001b[38;5;28;01mexcept\u001b[39;00m \u001b[38;5;167;01mImportError\u001b[39;00m:\n",
      "\u001b[0;31mImportError\u001b[0m: Version check of the existing lazylinker compiled file. Looking for version 0.212, but found None. Extra debug information: force_compile=False, _need_reload=True",
      "\nDuring handling of the above exception, another exception occurred:\n",
      "\u001b[0;31mImportError\u001b[0m                               Traceback (most recent call last)",
      "File \u001b[0;32m~/mcstools/env/lib64/python3.9/site-packages/pytensor/link/c/lazylinker_c.py:100\u001b[0m\n\u001b[1;32m     99\u001b[0m     \u001b[38;5;28;01mif\u001b[39;00m version \u001b[38;5;241m!=\u001b[39m actual_version:\n\u001b[0;32m--> 100\u001b[0m         \u001b[38;5;28;01mraise\u001b[39;00m \u001b[38;5;167;01mImportError\u001b[39;00m(\n\u001b[1;32m    101\u001b[0m             \u001b[38;5;124m\"\u001b[39m\u001b[38;5;124mVersion check of the existing lazylinker compiled file.\u001b[39m\u001b[38;5;124m\"\u001b[39m\n\u001b[1;32m    102\u001b[0m             \u001b[38;5;124mf\u001b[39m\u001b[38;5;124m\"\u001b[39m\u001b[38;5;124m Looking for version \u001b[39m\u001b[38;5;132;01m{\u001b[39;00mversion\u001b[38;5;132;01m}\u001b[39;00m\u001b[38;5;124m, but found \u001b[39m\u001b[38;5;132;01m{\u001b[39;00mactual_version\u001b[38;5;132;01m}\u001b[39;00m\u001b[38;5;124m. \u001b[39m\u001b[38;5;124m\"\u001b[39m\n\u001b[1;32m    103\u001b[0m             \u001b[38;5;124mf\u001b[39m\u001b[38;5;124m\"\u001b[39m\u001b[38;5;124mExtra debug information: force_compile=\u001b[39m\u001b[38;5;132;01m{\u001b[39;00mforce_compile\u001b[38;5;132;01m}\u001b[39;00m\u001b[38;5;124m, _need_reload=\u001b[39m\u001b[38;5;132;01m{\u001b[39;00m_need_reload\u001b[38;5;132;01m}\u001b[39;00m\u001b[38;5;124m\"\u001b[39m\n\u001b[1;32m    104\u001b[0m         )\n\u001b[1;32m    105\u001b[0m \u001b[38;5;28;01mexcept\u001b[39;00m \u001b[38;5;167;01mImportError\u001b[39;00m:\n\u001b[1;32m    106\u001b[0m     \u001b[38;5;66;03m# It is useless to try to compile if there isn't any\u001b[39;00m\n\u001b[1;32m    107\u001b[0m     \u001b[38;5;66;03m# compiler!  But we still want to try to load it, in case\u001b[39;00m\n\u001b[1;32m    108\u001b[0m     \u001b[38;5;66;03m# the cache was copied from another computer.\u001b[39;00m\n",
      "\u001b[0;31mImportError\u001b[0m: Version check of the existing lazylinker compiled file. Looking for version 0.212, but found None. Extra debug information: force_compile=False, _need_reload=True",
      "\nDuring handling of the above exception, another exception occurred:\n",
      "\u001b[0;31mCompileError\u001b[0m                              Traceback (most recent call last)",
      "Cell \u001b[0;32mIn[16], line 11\u001b[0m\n\u001b[1;32m      8\u001b[0m \u001b[38;5;66;03m# Use TruncatedNormal directly\u001b[39;00m\n\u001b[1;32m      9\u001b[0m obs \u001b[38;5;241m=\u001b[39m pm\u001b[38;5;241m.\u001b[39mTruncatedNormal(\u001b[38;5;124m\"\u001b[39m\u001b[38;5;124mobs\u001b[39m\u001b[38;5;124m\"\u001b[39m, mu\u001b[38;5;241m=\u001b[39mmu, sigma\u001b[38;5;241m=\u001b[39msigma, lower\u001b[38;5;241m=\u001b[39m\u001b[38;5;241m0\u001b[39m, observed\u001b[38;5;241m=\u001b[39mdata)\n\u001b[0;32m---> 11\u001b[0m trace \u001b[38;5;241m=\u001b[39m \u001b[43mpm\u001b[49m\u001b[38;5;241;43m.\u001b[39;49m\u001b[43msample\u001b[49m\u001b[43m(\u001b[49m\u001b[38;5;241;43m2000\u001b[39;49m\u001b[43m,\u001b[49m\u001b[43m \u001b[49m\u001b[43mtune\u001b[49m\u001b[38;5;241;43m=\u001b[39;49m\u001b[38;5;241;43m1000\u001b[39;49m\u001b[43m,\u001b[49m\u001b[43m \u001b[49m\u001b[43mtarget_accept\u001b[49m\u001b[38;5;241;43m=\u001b[39;49m\u001b[38;5;241;43m0.9\u001b[39;49m\u001b[43m,\u001b[49m\u001b[43m \u001b[49m\u001b[43mreturn_inferencedata\u001b[49m\u001b[38;5;241;43m=\u001b[39;49m\u001b[38;5;28;43;01mTrue\u001b[39;49;00m\u001b[43m)\u001b[49m\n",
      "File \u001b[0;32m~/mcstools/env/lib64/python3.9/site-packages/pymc/sampling/mcmc.py:679\u001b[0m, in \u001b[0;36msample\u001b[0;34m(draws, tune, chains, cores, random_seed, progressbar, step, var_names, nuts_sampler, initvals, init, jitter_max_retries, n_init, trace, discard_tuned_samples, compute_convergence_checks, keep_warning_stat, return_inferencedata, idata_kwargs, nuts_sampler_kwargs, callback, mp_ctx, model, **kwargs)\u001b[0m\n\u001b[1;32m    676\u001b[0m         auto_nuts_init \u001b[38;5;241m=\u001b[39m \u001b[38;5;28;01mFalse\u001b[39;00m\n\u001b[1;32m    678\u001b[0m initial_points \u001b[38;5;241m=\u001b[39m \u001b[38;5;28;01mNone\u001b[39;00m\n\u001b[0;32m--> 679\u001b[0m step \u001b[38;5;241m=\u001b[39m \u001b[43massign_step_methods\u001b[49m\u001b[43m(\u001b[49m\u001b[43mmodel\u001b[49m\u001b[43m,\u001b[49m\u001b[43m \u001b[49m\u001b[43mstep\u001b[49m\u001b[43m,\u001b[49m\u001b[43m \u001b[49m\u001b[43mmethods\u001b[49m\u001b[38;5;241;43m=\u001b[39;49m\u001b[43mpm\u001b[49m\u001b[38;5;241;43m.\u001b[39;49m\u001b[43mSTEP_METHODS\u001b[49m\u001b[43m,\u001b[49m\u001b[43m \u001b[49m\u001b[43mstep_kwargs\u001b[49m\u001b[38;5;241;43m=\u001b[39;49m\u001b[43mkwargs\u001b[49m\u001b[43m)\u001b[49m\n\u001b[1;32m    681\u001b[0m \u001b[38;5;28;01mif\u001b[39;00m nuts_sampler \u001b[38;5;241m!=\u001b[39m \u001b[38;5;124m\"\u001b[39m\u001b[38;5;124mpymc\u001b[39m\u001b[38;5;124m\"\u001b[39m:\n\u001b[1;32m    682\u001b[0m     \u001b[38;5;28;01mif\u001b[39;00m \u001b[38;5;129;01mnot\u001b[39;00m \u001b[38;5;28misinstance\u001b[39m(step, NUTS):\n",
      "File \u001b[0;32m~/mcstools/env/lib64/python3.9/site-packages/pymc/sampling/mcmc.py:232\u001b[0m, in \u001b[0;36massign_step_methods\u001b[0;34m(model, step, methods, step_kwargs)\u001b[0m\n\u001b[1;32m    224\u001b[0m         selected \u001b[38;5;241m=\u001b[39m \u001b[38;5;28mmax\u001b[39m(\n\u001b[1;32m    225\u001b[0m             methods_list,\n\u001b[1;32m    226\u001b[0m             key\u001b[38;5;241m=\u001b[39m\u001b[38;5;28;01mlambda\u001b[39;00m method, var\u001b[38;5;241m=\u001b[39mrv_var, has_gradient\u001b[38;5;241m=\u001b[39mhas_gradient: method\u001b[38;5;241m.\u001b[39m_competence(  \u001b[38;5;66;03m# type: ignore\u001b[39;00m\n\u001b[1;32m    227\u001b[0m                 var, has_gradient\n\u001b[1;32m    228\u001b[0m             ),\n\u001b[1;32m    229\u001b[0m         )\n\u001b[1;32m    230\u001b[0m         selected_steps\u001b[38;5;241m.\u001b[39msetdefault(selected, [])\u001b[38;5;241m.\u001b[39mappend(var)\n\u001b[0;32m--> 232\u001b[0m \u001b[38;5;28;01mreturn\u001b[39;00m \u001b[43minstantiate_steppers\u001b[49m\u001b[43m(\u001b[49m\u001b[43mmodel\u001b[49m\u001b[43m,\u001b[49m\u001b[43m \u001b[49m\u001b[43msteps\u001b[49m\u001b[43m,\u001b[49m\u001b[43m \u001b[49m\u001b[43mselected_steps\u001b[49m\u001b[43m,\u001b[49m\u001b[43m \u001b[49m\u001b[43mstep_kwargs\u001b[49m\u001b[43m)\u001b[49m\n",
      "File \u001b[0;32m~/mcstools/env/lib64/python3.9/site-packages/pymc/sampling/mcmc.py:133\u001b[0m, in \u001b[0;36minstantiate_steppers\u001b[0;34m(model, steps, selected_steps, step_kwargs)\u001b[0m\n\u001b[1;32m    131\u001b[0m         args \u001b[38;5;241m=\u001b[39m step_kwargs\u001b[38;5;241m.\u001b[39mget(name, {})\n\u001b[1;32m    132\u001b[0m         used_keys\u001b[38;5;241m.\u001b[39madd(name)\n\u001b[0;32m--> 133\u001b[0m         step \u001b[38;5;241m=\u001b[39m \u001b[43mstep_class\u001b[49m\u001b[43m(\u001b[49m\u001b[38;5;28;43mvars\u001b[39;49m\u001b[38;5;241;43m=\u001b[39;49m\u001b[38;5;28;43mvars\u001b[39;49m\u001b[43m,\u001b[49m\u001b[43m \u001b[49m\u001b[43mmodel\u001b[49m\u001b[38;5;241;43m=\u001b[39;49m\u001b[43mmodel\u001b[49m\u001b[43m,\u001b[49m\u001b[43m \u001b[49m\u001b[38;5;241;43m*\u001b[39;49m\u001b[38;5;241;43m*\u001b[39;49m\u001b[43margs\u001b[49m\u001b[43m)\u001b[49m\n\u001b[1;32m    134\u001b[0m         steps\u001b[38;5;241m.\u001b[39mappend(step)\n\u001b[1;32m    136\u001b[0m unused_args \u001b[38;5;241m=\u001b[39m \u001b[38;5;28mset\u001b[39m(step_kwargs)\u001b[38;5;241m.\u001b[39mdifference(used_keys)\n",
      "File \u001b[0;32m~/mcstools/env/lib64/python3.9/site-packages/pymc/step_methods/hmc/nuts.py:180\u001b[0m, in \u001b[0;36mNUTS.__init__\u001b[0;34m(self, vars, max_treedepth, early_max_treedepth, **kwargs)\u001b[0m\n\u001b[1;32m    122\u001b[0m \u001b[38;5;28;01mdef\u001b[39;00m\u001b[38;5;250m \u001b[39m\u001b[38;5;21m__init__\u001b[39m(\u001b[38;5;28mself\u001b[39m, \u001b[38;5;28mvars\u001b[39m\u001b[38;5;241m=\u001b[39m\u001b[38;5;28;01mNone\u001b[39;00m, max_treedepth\u001b[38;5;241m=\u001b[39m\u001b[38;5;241m10\u001b[39m, early_max_treedepth\u001b[38;5;241m=\u001b[39m\u001b[38;5;241m8\u001b[39m, \u001b[38;5;241m*\u001b[39m\u001b[38;5;241m*\u001b[39mkwargs):\n\u001b[1;32m    123\u001b[0m \u001b[38;5;250m    \u001b[39m\u001b[38;5;124mr\u001b[39m\u001b[38;5;124;03m\"\"\"Set up the No-U-Turn sampler.\u001b[39;00m\n\u001b[1;32m    124\u001b[0m \n\u001b[1;32m    125\u001b[0m \u001b[38;5;124;03m    Parameters\u001b[39;00m\n\u001b[0;32m   (...)\u001b[0m\n\u001b[1;32m    178\u001b[0m \u001b[38;5;124;03m    `pm.sample` to the desired number of tuning steps.\u001b[39;00m\n\u001b[1;32m    179\u001b[0m \u001b[38;5;124;03m    \"\"\"\u001b[39;00m\n\u001b[0;32m--> 180\u001b[0m     \u001b[38;5;28;43msuper\u001b[39;49m\u001b[43m(\u001b[49m\u001b[43m)\u001b[49m\u001b[38;5;241;43m.\u001b[39;49m\u001b[38;5;21;43m__init__\u001b[39;49m\u001b[43m(\u001b[49m\u001b[38;5;28;43mvars\u001b[39;49m\u001b[43m,\u001b[49m\u001b[43m \u001b[49m\u001b[38;5;241;43m*\u001b[39;49m\u001b[38;5;241;43m*\u001b[39;49m\u001b[43mkwargs\u001b[49m\u001b[43m)\u001b[49m\n\u001b[1;32m    182\u001b[0m     \u001b[38;5;28mself\u001b[39m\u001b[38;5;241m.\u001b[39mmax_treedepth \u001b[38;5;241m=\u001b[39m max_treedepth\n\u001b[1;32m    183\u001b[0m     \u001b[38;5;28mself\u001b[39m\u001b[38;5;241m.\u001b[39mearly_max_treedepth \u001b[38;5;241m=\u001b[39m early_max_treedepth\n",
      "File \u001b[0;32m~/mcstools/env/lib64/python3.9/site-packages/pymc/step_methods/hmc/base_hmc.py:109\u001b[0m, in \u001b[0;36mBaseHMC.__init__\u001b[0;34m(self, vars, scaling, step_scale, is_cov, model, blocked, potential, dtype, Emax, target_accept, gamma, k, t0, adapt_step_size, step_rand, **pytensor_kwargs)\u001b[0m\n\u001b[1;32m    107\u001b[0m \u001b[38;5;28;01melse\u001b[39;00m:\n\u001b[1;32m    108\u001b[0m     \u001b[38;5;28mvars\u001b[39m \u001b[38;5;241m=\u001b[39m get_value_vars_from_user_vars(\u001b[38;5;28mvars\u001b[39m, \u001b[38;5;28mself\u001b[39m\u001b[38;5;241m.\u001b[39m_model)\n\u001b[0;32m--> 109\u001b[0m \u001b[38;5;28;43msuper\u001b[39;49m\u001b[43m(\u001b[49m\u001b[43m)\u001b[49m\u001b[38;5;241;43m.\u001b[39;49m\u001b[38;5;21;43m__init__\u001b[39;49m\u001b[43m(\u001b[49m\u001b[38;5;28;43mvars\u001b[39;49m\u001b[43m,\u001b[49m\u001b[43m \u001b[49m\u001b[43mblocked\u001b[49m\u001b[38;5;241;43m=\u001b[39;49m\u001b[43mblocked\u001b[49m\u001b[43m,\u001b[49m\u001b[43m \u001b[49m\u001b[43mmodel\u001b[49m\u001b[38;5;241;43m=\u001b[39;49m\u001b[38;5;28;43mself\u001b[39;49m\u001b[38;5;241;43m.\u001b[39;49m\u001b[43m_model\u001b[49m\u001b[43m,\u001b[49m\u001b[43m \u001b[49m\u001b[43mdtype\u001b[49m\u001b[38;5;241;43m=\u001b[39;49m\u001b[43mdtype\u001b[49m\u001b[43m,\u001b[49m\u001b[43m \u001b[49m\u001b[38;5;241;43m*\u001b[39;49m\u001b[38;5;241;43m*\u001b[39;49m\u001b[43mpytensor_kwargs\u001b[49m\u001b[43m)\u001b[49m\n\u001b[1;32m    111\u001b[0m \u001b[38;5;28mself\u001b[39m\u001b[38;5;241m.\u001b[39madapt_step_size \u001b[38;5;241m=\u001b[39m adapt_step_size\n\u001b[1;32m    112\u001b[0m \u001b[38;5;28mself\u001b[39m\u001b[38;5;241m.\u001b[39mEmax \u001b[38;5;241m=\u001b[39m Emax\n",
      "File \u001b[0;32m~/mcstools/env/lib64/python3.9/site-packages/pymc/step_methods/arraystep.py:162\u001b[0m, in \u001b[0;36mGradientSharedStep.__init__\u001b[0;34m(self, vars, model, blocked, dtype, logp_dlogp_func, **pytensor_kwargs)\u001b[0m\n\u001b[1;32m    159\u001b[0m model \u001b[38;5;241m=\u001b[39m modelcontext(model)\n\u001b[1;32m    161\u001b[0m \u001b[38;5;28;01mif\u001b[39;00m logp_dlogp_func \u001b[38;5;129;01mis\u001b[39;00m \u001b[38;5;28;01mNone\u001b[39;00m:\n\u001b[0;32m--> 162\u001b[0m     func \u001b[38;5;241m=\u001b[39m \u001b[43mmodel\u001b[49m\u001b[38;5;241;43m.\u001b[39;49m\u001b[43mlogp_dlogp_function\u001b[49m\u001b[43m(\u001b[49m\u001b[38;5;28;43mvars\u001b[39;49m\u001b[43m,\u001b[49m\u001b[43m \u001b[49m\u001b[43mdtype\u001b[49m\u001b[38;5;241;43m=\u001b[39;49m\u001b[43mdtype\u001b[49m\u001b[43m,\u001b[49m\u001b[43m \u001b[49m\u001b[38;5;241;43m*\u001b[39;49m\u001b[38;5;241;43m*\u001b[39;49m\u001b[43mpytensor_kwargs\u001b[49m\u001b[43m)\u001b[49m\n\u001b[1;32m    163\u001b[0m \u001b[38;5;28;01melse\u001b[39;00m:\n\u001b[1;32m    164\u001b[0m     func \u001b[38;5;241m=\u001b[39m logp_dlogp_func\n",
      "File \u001b[0;32m~/mcstools/env/lib64/python3.9/site-packages/pymc/model/core.py:602\u001b[0m, in \u001b[0;36mModel.logp_dlogp_function\u001b[0;34m(self, grad_vars, tempered, **kwargs)\u001b[0m\n\u001b[1;32m    599\u001b[0m     costs \u001b[38;5;241m=\u001b[39m [\u001b[38;5;28mself\u001b[39m\u001b[38;5;241m.\u001b[39mlogp()]\n\u001b[1;32m    601\u001b[0m input_vars \u001b[38;5;241m=\u001b[39m {i \u001b[38;5;28;01mfor\u001b[39;00m i \u001b[38;5;129;01min\u001b[39;00m graph_inputs(costs) \u001b[38;5;28;01mif\u001b[39;00m \u001b[38;5;129;01mnot\u001b[39;00m \u001b[38;5;28misinstance\u001b[39m(i, Constant)}\n\u001b[0;32m--> 602\u001b[0m ip \u001b[38;5;241m=\u001b[39m \u001b[38;5;28;43mself\u001b[39;49m\u001b[38;5;241;43m.\u001b[39;49m\u001b[43minitial_point\u001b[49m\u001b[43m(\u001b[49m\u001b[38;5;241;43m0\u001b[39;49m\u001b[43m)\u001b[49m\n\u001b[1;32m    603\u001b[0m extra_vars_and_values \u001b[38;5;241m=\u001b[39m {\n\u001b[1;32m    604\u001b[0m     var: ip[var\u001b[38;5;241m.\u001b[39mname]\n\u001b[1;32m    605\u001b[0m     \u001b[38;5;28;01mfor\u001b[39;00m var \u001b[38;5;129;01min\u001b[39;00m \u001b[38;5;28mself\u001b[39m\u001b[38;5;241m.\u001b[39mvalue_vars\n\u001b[1;32m    606\u001b[0m     \u001b[38;5;28;01mif\u001b[39;00m var \u001b[38;5;129;01min\u001b[39;00m input_vars \u001b[38;5;129;01mand\u001b[39;00m var \u001b[38;5;129;01mnot\u001b[39;00m \u001b[38;5;129;01min\u001b[39;00m grad_vars\n\u001b[1;32m    607\u001b[0m }\n\u001b[1;32m    608\u001b[0m \u001b[38;5;28;01mreturn\u001b[39;00m ValueGradFunction(costs, grad_vars, extra_vars_and_values, \u001b[38;5;241m*\u001b[39m\u001b[38;5;241m*\u001b[39mkwargs)\n",
      "File \u001b[0;32m~/mcstools/env/lib64/python3.9/site-packages/pymc/model/core.py:1060\u001b[0m, in \u001b[0;36mModel.initial_point\u001b[0;34m(self, random_seed)\u001b[0m\n\u001b[1;32m   1047\u001b[0m \u001b[38;5;28;01mdef\u001b[39;00m\u001b[38;5;250m \u001b[39m\u001b[38;5;21minitial_point\u001b[39m(\u001b[38;5;28mself\u001b[39m, random_seed: SeedSequenceSeed \u001b[38;5;241m=\u001b[39m \u001b[38;5;28;01mNone\u001b[39;00m) \u001b[38;5;241m-\u001b[39m\u001b[38;5;241m>\u001b[39m \u001b[38;5;28mdict\u001b[39m[\u001b[38;5;28mstr\u001b[39m, np\u001b[38;5;241m.\u001b[39mndarray]:\n\u001b[1;32m   1048\u001b[0m \u001b[38;5;250m    \u001b[39m\u001b[38;5;124;03m\"\"\"Computes the initial point of the model.\u001b[39;00m\n\u001b[1;32m   1049\u001b[0m \n\u001b[1;32m   1050\u001b[0m \u001b[38;5;124;03m    Parameters\u001b[39;00m\n\u001b[0;32m   (...)\u001b[0m\n\u001b[1;32m   1058\u001b[0m \u001b[38;5;124;03m        Maps names of transformed variables to numeric initial values in the transformed space.\u001b[39;00m\n\u001b[1;32m   1059\u001b[0m \u001b[38;5;124;03m    \"\"\"\u001b[39;00m\n\u001b[0;32m-> 1060\u001b[0m     fn \u001b[38;5;241m=\u001b[39m \u001b[43mmake_initial_point_fn\u001b[49m\u001b[43m(\u001b[49m\u001b[43mmodel\u001b[49m\u001b[38;5;241;43m=\u001b[39;49m\u001b[38;5;28;43mself\u001b[39;49m\u001b[43m,\u001b[49m\u001b[43m \u001b[49m\u001b[43mreturn_transformed\u001b[49m\u001b[38;5;241;43m=\u001b[39;49m\u001b[38;5;28;43;01mTrue\u001b[39;49;00m\u001b[43m)\u001b[49m\n\u001b[1;32m   1061\u001b[0m     \u001b[38;5;28;01mreturn\u001b[39;00m Point(fn(random_seed), model\u001b[38;5;241m=\u001b[39m\u001b[38;5;28mself\u001b[39m)\n",
      "File \u001b[0;32m~/mcstools/env/lib64/python3.9/site-packages/pymc/initial_point.py:153\u001b[0m, in \u001b[0;36mmake_initial_point_fn\u001b[0;34m(model, overrides, jitter_rvs, default_strategy, return_transformed)\u001b[0m\n\u001b[1;32m    150\u001b[0m \u001b[38;5;66;03m# Replace original rng shared variables so that we don't mess with them\u001b[39;00m\n\u001b[1;32m    151\u001b[0m \u001b[38;5;66;03m# when calling the final seeded function\u001b[39;00m\n\u001b[1;32m    152\u001b[0m initial_values \u001b[38;5;241m=\u001b[39m replace_rng_nodes(initial_values)\n\u001b[0;32m--> 153\u001b[0m func \u001b[38;5;241m=\u001b[39m \u001b[43mcompile_pymc\u001b[49m\u001b[43m(\u001b[49m\u001b[43minputs\u001b[49m\u001b[38;5;241;43m=\u001b[39;49m\u001b[43m[\u001b[49m\u001b[43m]\u001b[49m\u001b[43m,\u001b[49m\u001b[43m \u001b[49m\u001b[43moutputs\u001b[49m\u001b[38;5;241;43m=\u001b[39;49m\u001b[43minitial_values\u001b[49m\u001b[43m,\u001b[49m\u001b[43m \u001b[49m\u001b[43mmode\u001b[49m\u001b[38;5;241;43m=\u001b[39;49m\u001b[43mpytensor\u001b[49m\u001b[38;5;241;43m.\u001b[39;49m\u001b[43mcompile\u001b[49m\u001b[38;5;241;43m.\u001b[39;49m\u001b[43mmode\u001b[49m\u001b[38;5;241;43m.\u001b[39;49m\u001b[43mFAST_COMPILE\u001b[49m\u001b[43m)\u001b[49m\n\u001b[1;32m    155\u001b[0m varnames \u001b[38;5;241m=\u001b[39m []\n\u001b[1;32m    156\u001b[0m \u001b[38;5;28;01mfor\u001b[39;00m var \u001b[38;5;129;01min\u001b[39;00m model\u001b[38;5;241m.\u001b[39mfree_RVs:\n",
      "File \u001b[0;32m~/mcstools/env/lib64/python3.9/site-packages/pymc/pytensorf.py:985\u001b[0m, in \u001b[0;36mcompile_pymc\u001b[0;34m(inputs, outputs, random_seed, mode, **kwargs)\u001b[0m\n\u001b[1;32m    983\u001b[0m opt_qry \u001b[38;5;241m=\u001b[39m mode\u001b[38;5;241m.\u001b[39mprovided_optimizer\u001b[38;5;241m.\u001b[39mincluding(\u001b[38;5;124m\"\u001b[39m\u001b[38;5;124mrandom_make_inplace\u001b[39m\u001b[38;5;124m\"\u001b[39m, check_parameter_opt)\n\u001b[1;32m    984\u001b[0m mode \u001b[38;5;241m=\u001b[39m Mode(linker\u001b[38;5;241m=\u001b[39mmode\u001b[38;5;241m.\u001b[39mlinker, optimizer\u001b[38;5;241m=\u001b[39mopt_qry)\n\u001b[0;32m--> 985\u001b[0m pytensor_function \u001b[38;5;241m=\u001b[39m \u001b[43mpytensor\u001b[49m\u001b[38;5;241;43m.\u001b[39;49m\u001b[43mfunction\u001b[49m\u001b[43m(\u001b[49m\n\u001b[1;32m    986\u001b[0m \u001b[43m    \u001b[49m\u001b[43minputs\u001b[49m\u001b[43m,\u001b[49m\n\u001b[1;32m    987\u001b[0m \u001b[43m    \u001b[49m\u001b[43moutputs\u001b[49m\u001b[43m,\u001b[49m\n\u001b[1;32m    988\u001b[0m \u001b[43m    \u001b[49m\u001b[43mupdates\u001b[49m\u001b[38;5;241;43m=\u001b[39;49m\u001b[43m{\u001b[49m\u001b[38;5;241;43m*\u001b[39;49m\u001b[38;5;241;43m*\u001b[39;49m\u001b[43mrng_updates\u001b[49m\u001b[43m,\u001b[49m\u001b[43m \u001b[49m\u001b[38;5;241;43m*\u001b[39;49m\u001b[38;5;241;43m*\u001b[39;49m\u001b[43mkwargs\u001b[49m\u001b[38;5;241;43m.\u001b[39;49m\u001b[43mpop\u001b[49m\u001b[43m(\u001b[49m\u001b[38;5;124;43m\"\u001b[39;49m\u001b[38;5;124;43mupdates\u001b[39;49m\u001b[38;5;124;43m\"\u001b[39;49m\u001b[43m,\u001b[49m\u001b[43m \u001b[49m\u001b[43m{\u001b[49m\u001b[43m}\u001b[49m\u001b[43m)\u001b[49m\u001b[43m}\u001b[49m\u001b[43m,\u001b[49m\n\u001b[1;32m    989\u001b[0m \u001b[43m    \u001b[49m\u001b[43mmode\u001b[49m\u001b[38;5;241;43m=\u001b[39;49m\u001b[43mmode\u001b[49m\u001b[43m,\u001b[49m\n\u001b[1;32m    990\u001b[0m \u001b[43m    \u001b[49m\u001b[38;5;241;43m*\u001b[39;49m\u001b[38;5;241;43m*\u001b[39;49m\u001b[43mkwargs\u001b[49m\u001b[43m,\u001b[49m\n\u001b[1;32m    991\u001b[0m \u001b[43m\u001b[49m\u001b[43m)\u001b[49m\n\u001b[1;32m    992\u001b[0m \u001b[38;5;28;01mreturn\u001b[39;00m pytensor_function\n",
      "File \u001b[0;32m~/mcstools/env/lib64/python3.9/site-packages/pytensor/compile/function/__init__.py:315\u001b[0m, in \u001b[0;36mfunction\u001b[0;34m(inputs, outputs, mode, updates, givens, no_default_updates, accept_inplace, name, rebuild_strict, allow_input_downcast, profile, on_unused_input)\u001b[0m\n\u001b[1;32m    309\u001b[0m     fn \u001b[38;5;241m=\u001b[39m orig_function(\n\u001b[1;32m    310\u001b[0m         inputs, outputs, mode\u001b[38;5;241m=\u001b[39mmode, accept_inplace\u001b[38;5;241m=\u001b[39maccept_inplace, name\u001b[38;5;241m=\u001b[39mname\n\u001b[1;32m    311\u001b[0m     )\n\u001b[1;32m    312\u001b[0m \u001b[38;5;28;01melse\u001b[39;00m:\n\u001b[1;32m    313\u001b[0m     \u001b[38;5;66;03m# note: pfunc will also call orig_function -- orig_function is\u001b[39;00m\n\u001b[1;32m    314\u001b[0m     \u001b[38;5;66;03m#      a choke point that all compilation must pass through\u001b[39;00m\n\u001b[0;32m--> 315\u001b[0m     fn \u001b[38;5;241m=\u001b[39m \u001b[43mpfunc\u001b[49m\u001b[43m(\u001b[49m\n\u001b[1;32m    316\u001b[0m \u001b[43m        \u001b[49m\u001b[43mparams\u001b[49m\u001b[38;5;241;43m=\u001b[39;49m\u001b[43minputs\u001b[49m\u001b[43m,\u001b[49m\n\u001b[1;32m    317\u001b[0m \u001b[43m        \u001b[49m\u001b[43moutputs\u001b[49m\u001b[38;5;241;43m=\u001b[39;49m\u001b[43moutputs\u001b[49m\u001b[43m,\u001b[49m\n\u001b[1;32m    318\u001b[0m \u001b[43m        \u001b[49m\u001b[43mmode\u001b[49m\u001b[38;5;241;43m=\u001b[39;49m\u001b[43mmode\u001b[49m\u001b[43m,\u001b[49m\n\u001b[1;32m    319\u001b[0m \u001b[43m        \u001b[49m\u001b[43mupdates\u001b[49m\u001b[38;5;241;43m=\u001b[39;49m\u001b[43mupdates\u001b[49m\u001b[43m,\u001b[49m\n\u001b[1;32m    320\u001b[0m \u001b[43m        \u001b[49m\u001b[43mgivens\u001b[49m\u001b[38;5;241;43m=\u001b[39;49m\u001b[43mgivens\u001b[49m\u001b[43m,\u001b[49m\n\u001b[1;32m    321\u001b[0m \u001b[43m        \u001b[49m\u001b[43mno_default_updates\u001b[49m\u001b[38;5;241;43m=\u001b[39;49m\u001b[43mno_default_updates\u001b[49m\u001b[43m,\u001b[49m\n\u001b[1;32m    322\u001b[0m \u001b[43m        \u001b[49m\u001b[43maccept_inplace\u001b[49m\u001b[38;5;241;43m=\u001b[39;49m\u001b[43maccept_inplace\u001b[49m\u001b[43m,\u001b[49m\n\u001b[1;32m    323\u001b[0m \u001b[43m        \u001b[49m\u001b[43mname\u001b[49m\u001b[38;5;241;43m=\u001b[39;49m\u001b[43mname\u001b[49m\u001b[43m,\u001b[49m\n\u001b[1;32m    324\u001b[0m \u001b[43m        \u001b[49m\u001b[43mrebuild_strict\u001b[49m\u001b[38;5;241;43m=\u001b[39;49m\u001b[43mrebuild_strict\u001b[49m\u001b[43m,\u001b[49m\n\u001b[1;32m    325\u001b[0m \u001b[43m        \u001b[49m\u001b[43mallow_input_downcast\u001b[49m\u001b[38;5;241;43m=\u001b[39;49m\u001b[43mallow_input_downcast\u001b[49m\u001b[43m,\u001b[49m\n\u001b[1;32m    326\u001b[0m \u001b[43m        \u001b[49m\u001b[43mon_unused_input\u001b[49m\u001b[38;5;241;43m=\u001b[39;49m\u001b[43mon_unused_input\u001b[49m\u001b[43m,\u001b[49m\n\u001b[1;32m    327\u001b[0m \u001b[43m        \u001b[49m\u001b[43mprofile\u001b[49m\u001b[38;5;241;43m=\u001b[39;49m\u001b[43mprofile\u001b[49m\u001b[43m,\u001b[49m\n\u001b[1;32m    328\u001b[0m \u001b[43m        \u001b[49m\u001b[43moutput_keys\u001b[49m\u001b[38;5;241;43m=\u001b[39;49m\u001b[43moutput_keys\u001b[49m\u001b[43m,\u001b[49m\n\u001b[1;32m    329\u001b[0m \u001b[43m    \u001b[49m\u001b[43m)\u001b[49m\n\u001b[1;32m    330\u001b[0m \u001b[38;5;28;01mreturn\u001b[39;00m fn\n",
      "File \u001b[0;32m~/mcstools/env/lib64/python3.9/site-packages/pytensor/compile/function/pfunc.py:469\u001b[0m, in \u001b[0;36mpfunc\u001b[0;34m(params, outputs, mode, updates, givens, no_default_updates, accept_inplace, name, rebuild_strict, allow_input_downcast, profile, on_unused_input, output_keys, fgraph)\u001b[0m\n\u001b[1;32m    455\u001b[0m     profile \u001b[38;5;241m=\u001b[39m ProfileStats(message\u001b[38;5;241m=\u001b[39mprofile)\n\u001b[1;32m    457\u001b[0m inputs, cloned_outputs \u001b[38;5;241m=\u001b[39m construct_pfunc_ins_and_outs(\n\u001b[1;32m    458\u001b[0m     params,\n\u001b[1;32m    459\u001b[0m     outputs,\n\u001b[0;32m   (...)\u001b[0m\n\u001b[1;32m    466\u001b[0m     fgraph\u001b[38;5;241m=\u001b[39mfgraph,\n\u001b[1;32m    467\u001b[0m )\n\u001b[0;32m--> 469\u001b[0m \u001b[38;5;28;01mreturn\u001b[39;00m \u001b[43morig_function\u001b[49m\u001b[43m(\u001b[49m\n\u001b[1;32m    470\u001b[0m \u001b[43m    \u001b[49m\u001b[43minputs\u001b[49m\u001b[43m,\u001b[49m\n\u001b[1;32m    471\u001b[0m \u001b[43m    \u001b[49m\u001b[43mcloned_outputs\u001b[49m\u001b[43m,\u001b[49m\n\u001b[1;32m    472\u001b[0m \u001b[43m    \u001b[49m\u001b[43mmode\u001b[49m\u001b[43m,\u001b[49m\n\u001b[1;32m    473\u001b[0m \u001b[43m    \u001b[49m\u001b[43maccept_inplace\u001b[49m\u001b[38;5;241;43m=\u001b[39;49m\u001b[43maccept_inplace\u001b[49m\u001b[43m,\u001b[49m\n\u001b[1;32m    474\u001b[0m \u001b[43m    \u001b[49m\u001b[43mname\u001b[49m\u001b[38;5;241;43m=\u001b[39;49m\u001b[43mname\u001b[49m\u001b[43m,\u001b[49m\n\u001b[1;32m    475\u001b[0m \u001b[43m    \u001b[49m\u001b[43mprofile\u001b[49m\u001b[38;5;241;43m=\u001b[39;49m\u001b[43mprofile\u001b[49m\u001b[43m,\u001b[49m\n\u001b[1;32m    476\u001b[0m \u001b[43m    \u001b[49m\u001b[43mon_unused_input\u001b[49m\u001b[38;5;241;43m=\u001b[39;49m\u001b[43mon_unused_input\u001b[49m\u001b[43m,\u001b[49m\n\u001b[1;32m    477\u001b[0m \u001b[43m    \u001b[49m\u001b[43moutput_keys\u001b[49m\u001b[38;5;241;43m=\u001b[39;49m\u001b[43moutput_keys\u001b[49m\u001b[43m,\u001b[49m\n\u001b[1;32m    478\u001b[0m \u001b[43m    \u001b[49m\u001b[43mfgraph\u001b[49m\u001b[38;5;241;43m=\u001b[39;49m\u001b[43mfgraph\u001b[49m\u001b[43m,\u001b[49m\n\u001b[1;32m    479\u001b[0m \u001b[43m\u001b[49m\u001b[43m)\u001b[49m\n",
      "File \u001b[0;32m~/mcstools/env/lib64/python3.9/site-packages/pytensor/compile/function/types.py:1762\u001b[0m, in \u001b[0;36morig_function\u001b[0;34m(inputs, outputs, mode, accept_inplace, name, profile, on_unused_input, output_keys, fgraph)\u001b[0m\n\u001b[1;32m   1750\u001b[0m     m \u001b[38;5;241m=\u001b[39m Maker(\n\u001b[1;32m   1751\u001b[0m         inputs,\n\u001b[1;32m   1752\u001b[0m         outputs,\n\u001b[0;32m   (...)\u001b[0m\n\u001b[1;32m   1759\u001b[0m         fgraph\u001b[38;5;241m=\u001b[39mfgraph,\n\u001b[1;32m   1760\u001b[0m     )\n\u001b[1;32m   1761\u001b[0m     \u001b[38;5;28;01mwith\u001b[39;00m config\u001b[38;5;241m.\u001b[39mchange_flags(compute_test_value\u001b[38;5;241m=\u001b[39m\u001b[38;5;124m\"\u001b[39m\u001b[38;5;124moff\u001b[39m\u001b[38;5;124m\"\u001b[39m):\n\u001b[0;32m-> 1762\u001b[0m         fn \u001b[38;5;241m=\u001b[39m \u001b[43mm\u001b[49m\u001b[38;5;241;43m.\u001b[39;49m\u001b[43mcreate\u001b[49m\u001b[43m(\u001b[49m\u001b[43mdefaults\u001b[49m\u001b[43m)\u001b[49m\n\u001b[1;32m   1763\u001b[0m \u001b[38;5;28;01mfinally\u001b[39;00m:\n\u001b[1;32m   1764\u001b[0m     \u001b[38;5;28;01mif\u001b[39;00m profile \u001b[38;5;129;01mand\u001b[39;00m fn:\n",
      "File \u001b[0;32m~/mcstools/env/lib64/python3.9/site-packages/pytensor/compile/function/types.py:1654\u001b[0m, in \u001b[0;36mFunctionMaker.create\u001b[0;34m(self, input_storage, storage_map)\u001b[0m\n\u001b[1;32m   1651\u001b[0m start_import_time \u001b[38;5;241m=\u001b[39m pytensor\u001b[38;5;241m.\u001b[39mlink\u001b[38;5;241m.\u001b[39mc\u001b[38;5;241m.\u001b[39mcmodule\u001b[38;5;241m.\u001b[39mimport_time\n\u001b[1;32m   1653\u001b[0m \u001b[38;5;28;01mwith\u001b[39;00m config\u001b[38;5;241m.\u001b[39mchange_flags(traceback__limit\u001b[38;5;241m=\u001b[39mconfig\u001b[38;5;241m.\u001b[39mtraceback__compile_limit):\n\u001b[0;32m-> 1654\u001b[0m     _fn, _i, _o \u001b[38;5;241m=\u001b[39m \u001b[38;5;28;43mself\u001b[39;49m\u001b[38;5;241;43m.\u001b[39;49m\u001b[43mlinker\u001b[49m\u001b[38;5;241;43m.\u001b[39;49m\u001b[43mmake_thunk\u001b[49m\u001b[43m(\u001b[49m\n\u001b[1;32m   1655\u001b[0m \u001b[43m        \u001b[49m\u001b[43minput_storage\u001b[49m\u001b[38;5;241;43m=\u001b[39;49m\u001b[43minput_storage_lists\u001b[49m\u001b[43m,\u001b[49m\u001b[43m \u001b[49m\u001b[43mstorage_map\u001b[49m\u001b[38;5;241;43m=\u001b[39;49m\u001b[43mstorage_map\u001b[49m\n\u001b[1;32m   1656\u001b[0m \u001b[43m    \u001b[49m\u001b[43m)\u001b[49m\n\u001b[1;32m   1658\u001b[0m end_linker \u001b[38;5;241m=\u001b[39m time\u001b[38;5;241m.\u001b[39mperf_counter()\n\u001b[1;32m   1660\u001b[0m linker_time \u001b[38;5;241m=\u001b[39m end_linker \u001b[38;5;241m-\u001b[39m start_linker\n",
      "File \u001b[0;32m~/mcstools/env/lib64/python3.9/site-packages/pytensor/link/basic.py:245\u001b[0m, in \u001b[0;36mLocalLinker.make_thunk\u001b[0;34m(self, input_storage, output_storage, storage_map, **kwargs)\u001b[0m\n\u001b[1;32m    238\u001b[0m \u001b[38;5;28;01mdef\u001b[39;00m\u001b[38;5;250m \u001b[39m\u001b[38;5;21mmake_thunk\u001b[39m(\n\u001b[1;32m    239\u001b[0m     \u001b[38;5;28mself\u001b[39m,\n\u001b[1;32m    240\u001b[0m     input_storage: Optional[\u001b[38;5;124m\"\u001b[39m\u001b[38;5;124mInputStorageType\u001b[39m\u001b[38;5;124m\"\u001b[39m] \u001b[38;5;241m=\u001b[39m \u001b[38;5;28;01mNone\u001b[39;00m,\n\u001b[0;32m   (...)\u001b[0m\n\u001b[1;32m    243\u001b[0m     \u001b[38;5;241m*\u001b[39m\u001b[38;5;241m*\u001b[39mkwargs,\n\u001b[1;32m    244\u001b[0m ) \u001b[38;5;241m-\u001b[39m\u001b[38;5;241m>\u001b[39m \u001b[38;5;28mtuple\u001b[39m[\u001b[38;5;124m\"\u001b[39m\u001b[38;5;124mBasicThunkType\u001b[39m\u001b[38;5;124m\"\u001b[39m, \u001b[38;5;124m\"\u001b[39m\u001b[38;5;124mInputStorageType\u001b[39m\u001b[38;5;124m\"\u001b[39m, \u001b[38;5;124m\"\u001b[39m\u001b[38;5;124mOutputStorageType\u001b[39m\u001b[38;5;124m\"\u001b[39m]:\n\u001b[0;32m--> 245\u001b[0m     \u001b[38;5;28;01mreturn\u001b[39;00m \u001b[38;5;28;43mself\u001b[39;49m\u001b[38;5;241;43m.\u001b[39;49m\u001b[43mmake_all\u001b[49m\u001b[43m(\u001b[49m\n\u001b[1;32m    246\u001b[0m \u001b[43m        \u001b[49m\u001b[43minput_storage\u001b[49m\u001b[38;5;241;43m=\u001b[39;49m\u001b[43minput_storage\u001b[49m\u001b[43m,\u001b[49m\n\u001b[1;32m    247\u001b[0m \u001b[43m        \u001b[49m\u001b[43moutput_storage\u001b[49m\u001b[38;5;241;43m=\u001b[39;49m\u001b[43moutput_storage\u001b[49m\u001b[43m,\u001b[49m\n\u001b[1;32m    248\u001b[0m \u001b[43m        \u001b[49m\u001b[43mstorage_map\u001b[49m\u001b[38;5;241;43m=\u001b[39;49m\u001b[43mstorage_map\u001b[49m\u001b[43m,\u001b[49m\n\u001b[1;32m    249\u001b[0m \u001b[43m    \u001b[49m\u001b[43m)\u001b[49m[:\u001b[38;5;241m3\u001b[39m]\n",
      "File \u001b[0;32m~/mcstools/env/lib64/python3.9/site-packages/pytensor/link/vm.py:1289\u001b[0m, in \u001b[0;36mVMLinker.make_all\u001b[0;34m(self, profiler, input_storage, output_storage, storage_map)\u001b[0m\n\u001b[1;32m   1286\u001b[0m \u001b[38;5;28;01melse\u001b[39;00m:\n\u001b[1;32m   1287\u001b[0m     post_thunk_clear \u001b[38;5;241m=\u001b[39m \u001b[38;5;28;01mNone\u001b[39;00m\n\u001b[0;32m-> 1289\u001b[0m vm \u001b[38;5;241m=\u001b[39m \u001b[38;5;28;43mself\u001b[39;49m\u001b[38;5;241;43m.\u001b[39;49m\u001b[43mmake_vm\u001b[49m\u001b[43m(\u001b[49m\n\u001b[1;32m   1290\u001b[0m \u001b[43m    \u001b[49m\u001b[43morder\u001b[49m\u001b[43m,\u001b[49m\n\u001b[1;32m   1291\u001b[0m \u001b[43m    \u001b[49m\u001b[43mthunks\u001b[49m\u001b[43m,\u001b[49m\n\u001b[1;32m   1292\u001b[0m \u001b[43m    \u001b[49m\u001b[43minput_storage\u001b[49m\u001b[43m,\u001b[49m\n\u001b[1;32m   1293\u001b[0m \u001b[43m    \u001b[49m\u001b[43moutput_storage\u001b[49m\u001b[43m,\u001b[49m\n\u001b[1;32m   1294\u001b[0m \u001b[43m    \u001b[49m\u001b[43mstorage_map\u001b[49m\u001b[43m,\u001b[49m\n\u001b[1;32m   1295\u001b[0m \u001b[43m    \u001b[49m\u001b[43mpost_thunk_clear\u001b[49m\u001b[43m,\u001b[49m\n\u001b[1;32m   1296\u001b[0m \u001b[43m    \u001b[49m\u001b[43mcomputed\u001b[49m\u001b[43m,\u001b[49m\n\u001b[1;32m   1297\u001b[0m \u001b[43m    \u001b[49m\u001b[43mcompute_map\u001b[49m\u001b[43m,\u001b[49m\n\u001b[1;32m   1298\u001b[0m \u001b[43m    \u001b[49m\u001b[38;5;28;43mself\u001b[39;49m\u001b[38;5;241;43m.\u001b[39;49m\u001b[43mupdated_vars\u001b[49m\u001b[43m,\u001b[49m\n\u001b[1;32m   1299\u001b[0m \u001b[43m\u001b[49m\u001b[43m)\u001b[49m\n\u001b[1;32m   1301\u001b[0m vm\u001b[38;5;241m.\u001b[39mstorage_map \u001b[38;5;241m=\u001b[39m storage_map\n\u001b[1;32m   1302\u001b[0m vm\u001b[38;5;241m.\u001b[39mcompute_map \u001b[38;5;241m=\u001b[39m compute_map\n",
      "File \u001b[0;32m~/mcstools/env/lib64/python3.9/site-packages/pytensor/link/vm.py:1012\u001b[0m, in \u001b[0;36mVMLinker.make_vm\u001b[0;34m(self, nodes, thunks, input_storage, output_storage, storage_map, post_thunk_clear, computed, compute_map, updated_vars)\u001b[0m\n\u001b[1;32m   1009\u001b[0m pre_call_clear \u001b[38;5;241m=\u001b[39m [storage_map[v] \u001b[38;5;28;01mfor\u001b[39;00m v \u001b[38;5;129;01min\u001b[39;00m \u001b[38;5;28mself\u001b[39m\u001b[38;5;241m.\u001b[39mno_recycling]\n\u001b[1;32m   1011\u001b[0m \u001b[38;5;28;01mtry\u001b[39;00m:\n\u001b[0;32m-> 1012\u001b[0m     \u001b[38;5;28;01mfrom\u001b[39;00m\u001b[38;5;250m \u001b[39m\u001b[38;5;21;01mpytensor\u001b[39;00m\u001b[38;5;21;01m.\u001b[39;00m\u001b[38;5;21;01mlink\u001b[39;00m\u001b[38;5;21;01m.\u001b[39;00m\u001b[38;5;21;01mc\u001b[39;00m\u001b[38;5;21;01m.\u001b[39;00m\u001b[38;5;21;01mcvm\u001b[39;00m\u001b[38;5;250m \u001b[39m\u001b[38;5;28;01mimport\u001b[39;00m CVM\n\u001b[1;32m   1013\u001b[0m \u001b[38;5;28;01mexcept\u001b[39;00m (MissingGXX, \u001b[38;5;167;01mImportError\u001b[39;00m):\n\u001b[1;32m   1014\u001b[0m     CVM \u001b[38;5;241m=\u001b[39m \u001b[38;5;28;01mNone\u001b[39;00m\n",
      "File \u001b[0;32m~/mcstools/env/lib64/python3.9/site-packages/pytensor/link/c/cvm.py:13\u001b[0m\n\u001b[1;32m      9\u001b[0m \u001b[38;5;28;01mif\u001b[39;00m \u001b[38;5;129;01mnot\u001b[39;00m config\u001b[38;5;241m.\u001b[39mcxx:\n\u001b[1;32m     10\u001b[0m     \u001b[38;5;28;01mraise\u001b[39;00m MissingGXX(\n\u001b[1;32m     11\u001b[0m         \u001b[38;5;124m\"\u001b[39m\u001b[38;5;124mlazylinker will not be imported if pytensor.config.cxx is not set.\u001b[39m\u001b[38;5;124m\"\u001b[39m\n\u001b[1;32m     12\u001b[0m     )\n\u001b[0;32m---> 13\u001b[0m \u001b[38;5;28;01mfrom\u001b[39;00m\u001b[38;5;250m \u001b[39m\u001b[38;5;21;01mpytensor\u001b[39;00m\u001b[38;5;21;01m.\u001b[39;00m\u001b[38;5;21;01mlink\u001b[39;00m\u001b[38;5;21;01m.\u001b[39;00m\u001b[38;5;21;01mc\u001b[39;00m\u001b[38;5;21;01m.\u001b[39;00m\u001b[38;5;21;01mlazylinker_c\u001b[39;00m\u001b[38;5;250m \u001b[39m\u001b[38;5;28;01mimport\u001b[39;00m CLazyLinker\n\u001b[1;32m     15\u001b[0m \u001b[38;5;28;01mclass\u001b[39;00m\u001b[38;5;250m \u001b[39m\u001b[38;5;21;01mCVM\u001b[39;00m(CLazyLinker, VM):\n\u001b[1;32m     16\u001b[0m     \u001b[38;5;28;01mdef\u001b[39;00m\u001b[38;5;250m \u001b[39m\u001b[38;5;21m__init__\u001b[39m(\u001b[38;5;28mself\u001b[39m, fgraph, \u001b[38;5;241m*\u001b[39margs, \u001b[38;5;241m*\u001b[39m\u001b[38;5;241m*\u001b[39mkwargs):\n",
      "File \u001b[0;32m~/mcstools/env/lib64/python3.9/site-packages/pytensor/link/c/lazylinker_c.py:143\u001b[0m\n\u001b[1;32m    140\u001b[0m         \u001b[38;5;28;01massert\u001b[39;00m os\u001b[38;5;241m.\u001b[39mpath\u001b[38;5;241m.\u001b[39mexists(loc)\n\u001b[1;32m    142\u001b[0m args \u001b[38;5;241m=\u001b[39m GCC_compiler\u001b[38;5;241m.\u001b[39mcompile_args()\n\u001b[0;32m--> 143\u001b[0m \u001b[43mGCC_compiler\u001b[49m\u001b[38;5;241;43m.\u001b[39;49m\u001b[43mcompile_str\u001b[49m\u001b[43m(\u001b[49m\u001b[43mdirname\u001b[49m\u001b[43m,\u001b[49m\u001b[43m \u001b[49m\u001b[43mcode\u001b[49m\u001b[43m,\u001b[49m\u001b[43m \u001b[49m\u001b[43mlocation\u001b[49m\u001b[38;5;241;43m=\u001b[39;49m\u001b[43mloc\u001b[49m\u001b[43m,\u001b[49m\u001b[43m \u001b[49m\u001b[43mpreargs\u001b[49m\u001b[38;5;241;43m=\u001b[39;49m\u001b[43margs\u001b[49m\u001b[43m)\u001b[49m\n\u001b[1;32m    144\u001b[0m \u001b[38;5;66;03m# Save version into the __init__.py file.\u001b[39;00m\n\u001b[1;32m    145\u001b[0m init_py \u001b[38;5;241m=\u001b[39m os\u001b[38;5;241m.\u001b[39mpath\u001b[38;5;241m.\u001b[39mjoin(loc, \u001b[38;5;124m\"\u001b[39m\u001b[38;5;124m__init__.py\u001b[39m\u001b[38;5;124m\"\u001b[39m)\n",
      "File \u001b[0;32m~/mcstools/env/lib64/python3.9/site-packages/pytensor/link/c/cmodule.py:2639\u001b[0m, in \u001b[0;36mGCC_compiler.compile_str\u001b[0;34m(module_name, src_code, location, include_dirs, lib_dirs, libs, preargs, py_module, hide_symbols)\u001b[0m\n\u001b[1;32m   2631\u001b[0m                 \u001b[38;5;28mprint\u001b[39m(\n\u001b[1;32m   2632\u001b[0m                     \u001b[38;5;124m\"\u001b[39m\u001b[38;5;124mCheck if package python-dev or python-devel is installed.\u001b[39m\u001b[38;5;124m\"\u001b[39m\n\u001b[1;32m   2633\u001b[0m                 )\n\u001b[1;32m   2635\u001b[0m     \u001b[38;5;66;03m# We replace '\\n' by '. ' in the error message because when Python\u001b[39;00m\n\u001b[1;32m   2636\u001b[0m     \u001b[38;5;66;03m# prints the exception, having '\\n' in the text makes it more\u001b[39;00m\n\u001b[1;32m   2637\u001b[0m     \u001b[38;5;66;03m# difficult to read.\u001b[39;00m\n\u001b[1;32m   2638\u001b[0m     \u001b[38;5;66;03m# compile_stderr = compile_stderr.replace(\"\\n\", \". \")\u001b[39;00m\n\u001b[0;32m-> 2639\u001b[0m     \u001b[38;5;28;01mraise\u001b[39;00m CompileError(\n\u001b[1;32m   2640\u001b[0m         \u001b[38;5;124mf\u001b[39m\u001b[38;5;124m\"\u001b[39m\u001b[38;5;124mCompilation failed (return status=\u001b[39m\u001b[38;5;132;01m{\u001b[39;00mstatus\u001b[38;5;132;01m}\u001b[39;00m\u001b[38;5;124m):\u001b[39m\u001b[38;5;130;01m\\n\u001b[39;00m\u001b[38;5;132;01m{\u001b[39;00m\u001b[38;5;124m'\u001b[39m\u001b[38;5;124m \u001b[39m\u001b[38;5;124m'\u001b[39m\u001b[38;5;241m.\u001b[39mjoin(cmd)\u001b[38;5;132;01m}\u001b[39;00m\u001b[38;5;130;01m\\n\u001b[39;00m\u001b[38;5;132;01m{\u001b[39;00mcompile_stderr\u001b[38;5;132;01m}\u001b[39;00m\u001b[38;5;124m\"\u001b[39m\n\u001b[1;32m   2641\u001b[0m     )\n\u001b[1;32m   2642\u001b[0m \u001b[38;5;28;01melif\u001b[39;00m config\u001b[38;5;241m.\u001b[39mcmodule__compilation_warning \u001b[38;5;129;01mand\u001b[39;00m compile_stderr:\n\u001b[1;32m   2643\u001b[0m     \u001b[38;5;66;03m# Print errors just below the command line.\u001b[39;00m\n\u001b[1;32m   2644\u001b[0m     \u001b[38;5;28mprint\u001b[39m(compile_stderr)\n",
      "\u001b[0;31mCompileError\u001b[0m: Compilation failed (return status=1):\n/usr/bin/g++ -shared -g -Wno-c++11-narrowing -fno-exceptions -fno-unwind-tables -fno-asynchronous-unwind-tables -march=znver1 -mmmx -mno-3dnow -msse -msse2 -msse3 -mssse3 -msse4a -mcx16 -msahf -mmovbe -maes -msha -mpclmul -mpopcnt -mabm -mno-lwp -mfma -mno-fma4 -mno-xop -mbmi -mno-sgx -mbmi2 -mno-pconfig -mwbnoinvd -mno-tbm -mavx -mavx2 -msse4.2 -msse4.1 -mlzcnt -mno-rtm -mno-hle -mrdrnd -mf16c -mfsgsbase -mrdseed -mprfchw -madx -mfxsr -mxsave -mxsaveopt -mno-avx512f -mno-avx512er -mno-avx512cd -mno-avx512pf -mno-prefetchwt1 -mclflushopt -mxsavec -mxsaves -mno-avx512dq -mno-avx512bw -mno-avx512vl -mno-avx512ifma -mno-avx512vbmi -mno-avx5124fmaps -mno-avx5124vnniw -mclwb -mmwaitx -mclzero -mno-pku -mrdpid -mno-gfni -mno-shstk -mno-avx512vbmi2 -mno-avx512vnni -mno-vaes -mno-vpclmulqdq -mno-avx512bitalg -mno-avx512vpopcntdq -mno-movdiri -mno-movdir64b --param l1-cache-size=32 --param l1-cache-line-size=64 --param l2-cache-size=512 -mtune=znver1 -DNPY_NO_DEPRECATED_API=NPY_1_7_API_VERSION -m64 -fPIC -I/home/mslipski/mcstools/env/lib64/python3.9/site-packages/numpy/core/include -I/usr/include/python3.9 -I/home/mslipski/mcstools/env/lib64/python3.9/site-packages/pytensor/link/c/c_code -L/usr/lib64 -fvisibility=hidden -o /home/mslipski/.pytensor/compiledir_Linux-5.4-el8uek.x86_64-x86_64-with-glibc2.28-x86_64-3.9.20-64/lazylinker_ext/lazylinker_ext.so /home/mslipski/.pytensor/compiledir_Linux-5.4-el8uek.x86_64-x86_64-with-glibc2.28-x86_64-3.9.20-64/lazylinker_ext/mod.cpp -lpython3.9\nIn file included from /home/mslipski/.pytensor/compiledir_Linux-5.4-el8uek.x86_64-x86_64-with-glibc2.28-x86_64-3.9.20-64/lazylinker_ext/mod.cpp:1:\n/home/mslipski/mcstools/env/lib64/python3.9/site-packages/pytensor/link/c/c_code/pytensor_mod_helper.h:4:10: fatal error: Python.h: No such file or directory\n #include <Python.h>\n          ^~~~~~~~~~\ncompilation terminated.\n"
     ]
    }
   ],
   "source": [
    "\n",
    "# Simulated data (truncated at 0)\n",
    "data = ex_level_temps[\"T\"]\n",
    "\n",
    "with pm.Model() as model:\n",
    "    mu = pm.Normal(\"mu\", mu=0, sigma=10)\n",
    "    sigma = pm.HalfNormal(\"sigma\", sigma=5)\n",
    "    \n",
    "    # Use TruncatedNormal directly\n",
    "    obs = pm.TruncatedNormal(\"obs\", mu=mu, sigma=sigma, lower=0, observed=data)\n",
    "    \n",
    "    trace = pm.sample(2000, tune=1000, target_accept=0.9, return_inferencedata=True)"
   ]
  },
  {
   "cell_type": "code",
   "execution_count": null,
   "metadata": {},
   "outputs": [],
   "source": []
  }
 ],
 "metadata": {
  "kernelspec": {
   "display_name": "env",
   "language": "python",
   "name": "python3"
  },
  "language_info": {
   "codemirror_mode": {
    "name": "ipython",
    "version": 3
   },
   "file_extension": ".py",
   "mimetype": "text/x-python",
   "name": "python",
   "nbconvert_exporter": "python",
   "pygments_lexer": "ipython3",
   "version": "3.9.20"
  }
 },
 "nbformat": 4,
 "nbformat_minor": 2
}
